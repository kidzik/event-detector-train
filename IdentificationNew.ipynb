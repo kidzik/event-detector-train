{
 "cells": [
  {
   "cell_type": "markdown",
   "metadata": {},
   "source": [
    "# Identification of gait events using LSTM networks"
   ]
  },
  {
   "cell_type": "code",
   "execution_count": 1,
   "metadata": {
    "collapsed": false
   },
   "outputs": [
    {
     "name": "stdout",
     "output_type": "stream",
     "text": [
      "Populating the interactive namespace from numpy and matplotlib\n"
     ]
    },
    {
     "name": "stderr",
     "output_type": "stream",
     "text": [
      "Using TensorFlow backend.\n"
     ]
    }
   ],
   "source": [
    "%matplotlib inline\n",
    "%pylab inline\n",
    "from utils import *"
   ]
  },
  {
   "cell_type": "markdown",
   "metadata": {},
   "source": [
    "## Problem statement"
   ]
  },
  {
   "cell_type": "markdown",
   "metadata": {},
   "source": [
    "We analyze over $2000$ gait lab visits, each consisting of several trials, $10622$ trials in total. In each patient was asked to walk normally for approx. $10$ meters and his movement was registered using motion caputre technology at $120$Hz. Marker trajectories from the motion capture recorders were then translated to kinematics curves. We observed time series of $5$ joints: hip, pelvis, knee, ankle, foot $3$ DOF each, sampled at $120$Hz, as well as toes, ankle, knee and ASI markers' positions.\n",
    "\n",
    "For each trial per leg $r$ we have $n_r$ sampling points of $5$ joints and $4$ markers, $3$ DOF. Input observations are stored as matrices $X_r \\in \\mathbb{R}^{n_r \\times 27}$. For each trial we have some of the events (foot strike / toes off) annotated. Let's focus on the foot strike event. We encode these events as a binary vector $Y_r \\in \\{ 0, 1\\}^{n_r}$. The task is to predict these events. Formally we are looking for a function $f$ such that $\\hat{Y}_{r} = f(X_{r})$, such that $\\hat{Y}_{r,t} \\sim Y_{r,t}$ for $t \\in \\{1,...,T_r\\}$.\n",
    "\n",
    "Since occurance of events is sparse, i.e. there are not many $1$ compared to $0$ in $Y_r$, we use a weighted binary crossentropy, penalazing misclassified $1$'s with $100:1$ proportion,\n",
    "\n",
    "\\begin{align*}\n",
    "  H(Y_r,\\hat{Y_r}) &= - \\sum_{1 \\leq t \\leq T_r} 100 \\cdot Y_{r,t} \\log \\hat{Y}_{r,t}\\\\\n",
    "  &+ (1-Y_{r,t}) \\log (1-\\hat{Y}_{r,t}).\n",
    "\\end{align*}\n",
    "\n",
    "Now, if we find $f$ minimizing $H(Y_r,f(X_{r}))$, real valued process $f(X_{r})$ can be interpreted as likelihood of event. Peaks of certain magnitude in this process will correspond to predicted events.\n",
    "\n",
    "For training the network we will use fixed length sequences. We set the length to `nseqlen` and use only samples from the first event `nstart - nrand` where `nstart` is the first nonzero element in $Y_r$ and `nrand` is a random integer between `nseqlen / 2`. We do this subtraction in order to simulate starting from different points - to make the procedure robust to various setups."
   ]
  },
  {
   "cell_type": "code",
   "execution_count": 2,
   "metadata": {
    "collapsed": false
   },
   "outputs": [],
   "source": [
    "# Settings\n",
    "input_dim = 89-2 #27*2\n",
    "output_dim = 1\n",
    "nseqlen = 128\n",
    "fdir = \"/media/lukasz/TOSHIBA EXT/csv\"\n",
    "\n",
    "# Load data\n",
    "inputs, outputs, ids = load_data(fdir, input_dim, output_dim, nseqlen, nsamples = 40000)\n",
    "n = inputs.shape[0]\n",
    "ntrain = int(math.floor(n * 0.9))"
   ]
  },
  {
   "cell_type": "markdown",
   "metadata": {},
   "source": [
    "Now `inputs` contains $10000$ matrices $X \\in \\mathbb{R}^{\\verb|nseqlen| \\times 27}$ and `outputs` are corresponding output vectors $Y_r \\in \\{ 0, 1\\}^{\\verb|nseqlen|}$."
   ]
  },
  {
   "cell_type": "markdown",
   "metadata": {},
   "source": [
    "### Interpretable error"
   ]
  },
  {
   "cell_type": "markdown",
   "metadata": {},
   "source": [
    "We use crossentropy as a differentiable function which helps to identify the regions of intrest. Yet, the practical usefulness of the method can be determined by average number of frames between predicted annotations and true annotations. Let $E_r$ is the set of events and $\\hat{E}_r$ the predicted set of events. Let $S$ be a set of traials from the test set on which numbers of predicted and true annotations are equal.\n",
    "\n",
    "* $\\verb|coverage| = |S|$,\n",
    "* $\\verb|distance| = $ average distance between true and predicted annotations on $S$, where by distance we mean minimal average absolute distance between pairs of values from $E_r$ and $\\hat{E}_r$.\n",
    "\n",
    "Both of these measures are not smooth so we can't use them directly in the training. However, if we optimize cross-entropy to $0$ then also these two measures are optimized. "
   ]
  },
  {
   "cell_type": "markdown",
   "metadata": {},
   "source": [
    "## Network"
   ]
  },
  {
   "cell_type": "markdown",
   "metadata": {},
   "source": [
    "Our algorithm can be summarized as follows. First, we construct a neural network for approximating likelihood of event. Next, we train the network on short sequences and we test it on the test set. We check loss function on the test set to rull out overfitting and next we apply peak detection algorithm for identifying the actual events. We manually verify if predictions are of sufficient quality."
   ]
  },
  {
   "cell_type": "markdown",
   "metadata": {},
   "source": [
    "### Architecture"
   ]
  },
  {
   "cell_type": "markdown",
   "metadata": {},
   "source": [
    "We propose following architecture of the network:\n",
    "* $15$ dimensional kinematics time series as input,\n",
    "* $d$ LSTM layers mapping the input to a $p$ dimensional time series,\n",
    "* LSTM layer mapping the previous layer to $2$ dimensional time series,\n",
    "\n",
    "where $d \\in \\{0,1,2\\}$ and $p \\in \\{16,32,64\\}$."
   ]
  },
  {
   "cell_type": "markdown",
   "metadata": {},
   "source": [
    "### Training"
   ]
  },
  {
   "cell_type": "markdown",
   "metadata": {},
   "source": [
    "We use $10000$ kinematics matrices $X \\in \\mathbb{R}^{\\verb|nseqlen| \\times 15}$ and corresponding output vectors $Y_r \\in \\{ 0, 1\\}^{\\verb|nseqlen|}$. We split the dataset into:\n",
    "* training set (for training the model)\n",
    "* validation set (for checking the accuracy of the training given the parameters)\n",
    "* test set (for final evaluation of the model)\n",
    "\n",
    "We split it in $81-9-10$ proportion.\n",
    "\n",
    "After preliminary analysis of the training and test set errors, we choose to run $500$ epochs. Preliminary experiments showed that the batch size has little influence on the accuracy and we decide to set $32$, since the training seems stable with this value."
   ]
  },
  {
   "cell_type": "code",
   "execution_count": 3,
   "metadata": {
    "collapsed": false
   },
   "outputs": [],
   "source": [
    "# Build the model\n",
    "def construct_model(hidden = 32, lstm_layers = 2, input_dim = 15, output_dim = 2):\n",
    "    model = Sequential()\n",
    "    model.add(LSTM(input_shape = (input_dim,),input_dim=input_dim, output_dim=hidden, return_sequences=True))\n",
    "    for i in range(lstm_layers-1):\n",
    "        model.add(LSTM(output_dim = hidden, return_sequences=True))\n",
    "    model.add(TimeDistributed(Dense(output_dim, activation='sigmoid')))\n",
    "    model.compile(loss=weighted_binary_crossentropy, optimizer='adam', metrics=['accuracy'])\n",
    "    return model\n",
    "\n",
    "#cols = range(15) + [30 + i for i in range(12)]+ [54 + i for i in range(12)] + [78 + i for i in range(9)] \n",
    "#cols = range(15) + [30 + i for i in range(12)] \n",
    "#cols = range(15) + [30 + i for i in range(12)] + [54 + i for i in range(12)]\n",
    "#cols = range(15) + [54 + i for i in range(12)] #THE GOOD ONE\n",
    "#cols = range(15) + [30 + i for i in range(6)] + [54 + i for i in range(6)]\n",
    "#cols = range(15) + [54 + i for i in range(6)] + [81 + i for i in range(6)] #EVEN BETTER ONE\n",
    "#cols = range(15) + [30 + i for i in range(6)] + [54 + i for i in range(6)] + [81 + i for i in range(6)] #\n",
    "#cols = range(15) + [30 + i for i in range(6)] + [54 + i for i in range(6)] + [81 + i for i in range(6)] \n",
    "\n",
    "#cols = range(15) + [54 + i for i in range(12)] + [81 + i for i in range(6)]\n",
    "cols = range(87)\n",
    "\n",
    "#cols = [i for i in cols if i % 3 != 2 ]\n",
    "# Fit on the training set\n",
    "model = construct_model(hidden = 48, lstm_layers = 3, input_dim = len(cols), output_dim = output_dim)"
   ]
  },
  {
   "cell_type": "code",
   "execution_count": 4,
   "metadata": {
    "collapsed": false,
    "scrolled": true
   },
   "outputs": [
    {
     "name": "stdout",
     "output_type": "stream",
     "text": [
      "Train on 28655 samples, validate on 3184 samples\n",
      "Epoch 1/300\n",
      "138s - loss: 0.0065 - acc: 0.8278 - val_loss: 0.0052 - val_acc: 0.8335\n",
      "Epoch 2/300\n",
      "137s - loss: 0.0050 - acc: 0.8543 - val_loss: 0.0048 - val_acc: 0.8619\n",
      "Epoch 3/300\n",
      "137s - loss: 0.0046 - acc: 0.8692 - val_loss: 0.0044 - val_acc: 0.8814\n",
      "Epoch 4/300\n",
      "137s - loss: 0.0042 - acc: 0.8826 - val_loss: 0.0038 - val_acc: 0.8991\n",
      "Epoch 5/300\n",
      "137s - loss: 0.0040 - acc: 0.8900 - val_loss: 0.0042 - val_acc: 0.8791\n",
      "Epoch 6/300\n",
      "137s - loss: 0.0037 - acc: 0.8965 - val_loss: 0.0035 - val_acc: 0.9021\n",
      "Epoch 7/300\n",
      "137s - loss: 0.0036 - acc: 0.9018 - val_loss: 0.0036 - val_acc: 0.9046\n",
      "Epoch 8/300\n",
      "137s - loss: 0.0035 - acc: 0.9037 - val_loss: 0.0039 - val_acc: 0.8891\n",
      "Epoch 9/300\n",
      "137s - loss: 0.0036 - acc: 0.9013 - val_loss: 0.0032 - val_acc: 0.9141\n",
      "Epoch 10/300\n",
      "137s - loss: 0.0033 - acc: 0.9118 - val_loss: 0.0030 - val_acc: 0.9186\n",
      "Epoch 11/300\n",
      "137s - loss: 0.0033 - acc: 0.9130 - val_loss: 0.0030 - val_acc: 0.9248\n",
      "Epoch 12/300\n",
      "137s - loss: 0.0032 - acc: 0.9146 - val_loss: 0.0030 - val_acc: 0.9242\n",
      "Epoch 13/300\n",
      "137s - loss: 0.0031 - acc: 0.9168 - val_loss: 0.0032 - val_acc: 0.9192\n",
      "Epoch 14/300\n",
      "137s - loss: 0.0031 - acc: 0.9185 - val_loss: 0.0030 - val_acc: 0.9228\n",
      "Epoch 15/300\n",
      "137s - loss: 0.0031 - acc: 0.9200 - val_loss: 0.0028 - val_acc: 0.9265\n",
      "Epoch 16/300\n",
      "137s - loss: 0.0030 - acc: 0.9212 - val_loss: 0.0032 - val_acc: 0.9188\n",
      "Epoch 17/300\n",
      "137s - loss: 0.0030 - acc: 0.9220 - val_loss: 0.0028 - val_acc: 0.9269\n",
      "Epoch 18/300\n",
      "137s - loss: 0.0030 - acc: 0.9216 - val_loss: 0.0030 - val_acc: 0.9147\n",
      "Epoch 19/300\n",
      "137s - loss: 0.0030 - acc: 0.9218 - val_loss: 0.0029 - val_acc: 0.9278\n",
      "Epoch 20/300\n",
      "137s - loss: 0.0029 - acc: 0.9235 - val_loss: 0.0029 - val_acc: 0.9285\n",
      "Epoch 21/300\n",
      "137s - loss: 0.0029 - acc: 0.9249 - val_loss: 0.0028 - val_acc: 0.9284\n",
      "Epoch 22/300\n",
      "137s - loss: 0.0030 - acc: 0.9239 - val_loss: 0.0027 - val_acc: 0.9315\n",
      "Epoch 23/300\n",
      "137s - loss: 0.0029 - acc: 0.9237 - val_loss: 0.0027 - val_acc: 0.9277\n",
      "Epoch 24/300\n",
      "137s - loss: 0.0029 - acc: 0.9261 - val_loss: 0.0028 - val_acc: 0.9329\n",
      "Epoch 25/300\n",
      "137s - loss: 0.0028 - acc: 0.9262 - val_loss: 0.0027 - val_acc: 0.9286\n",
      "Epoch 26/300\n",
      "137s - loss: 0.0028 - acc: 0.9266 - val_loss: 0.0027 - val_acc: 0.9287\n",
      "Epoch 27/300\n",
      "137s - loss: 0.0028 - acc: 0.9255 - val_loss: 0.0027 - val_acc: 0.9311\n",
      "Epoch 28/300\n",
      "137s - loss: 0.0028 - acc: 0.9261 - val_loss: 0.0027 - val_acc: 0.9298\n",
      "Epoch 29/300\n",
      "137s - loss: 0.0028 - acc: 0.9265 - val_loss: 0.0027 - val_acc: 0.9342\n",
      "Epoch 30/300\n",
      "137s - loss: 0.0028 - acc: 0.9283 - val_loss: 0.0030 - val_acc: 0.9207\n",
      "Epoch 31/300\n",
      "137s - loss: 0.0028 - acc: 0.9292 - val_loss: 0.0027 - val_acc: 0.9281\n",
      "Epoch 32/300\n",
      "137s - loss: 0.0028 - acc: 0.9280 - val_loss: 0.0027 - val_acc: 0.9283\n",
      "Epoch 33/300\n",
      "137s - loss: 0.0028 - acc: 0.9279 - val_loss: 0.0027 - val_acc: 0.9359\n",
      "Epoch 34/300\n",
      "137s - loss: 0.0028 - acc: 0.9272 - val_loss: 0.0027 - val_acc: 0.9288\n",
      "Epoch 35/300\n",
      "137s - loss: 0.0027 - acc: 0.9279 - val_loss: 0.0027 - val_acc: 0.9243\n",
      "Epoch 36/300\n",
      "137s - loss: 0.0027 - acc: 0.9278 - val_loss: 0.0027 - val_acc: 0.9321\n",
      "Epoch 37/300\n",
      "137s - loss: 0.0028 - acc: 0.9284 - val_loss: 0.0027 - val_acc: 0.9290\n",
      "Epoch 38/300\n",
      "137s - loss: 0.0027 - acc: 0.9296 - val_loss: 0.0028 - val_acc: 0.9294\n",
      "Epoch 39/300\n",
      "137s - loss: 0.0027 - acc: 0.9299 - val_loss: 0.0028 - val_acc: 0.9366\n",
      "Epoch 40/300\n",
      "137s - loss: 0.0027 - acc: 0.9295 - val_loss: 0.0027 - val_acc: 0.9296\n",
      "Epoch 41/300\n",
      "137s - loss: 0.0027 - acc: 0.9302 - val_loss: 0.0026 - val_acc: 0.9302\n",
      "Epoch 42/300\n",
      "137s - loss: 0.0027 - acc: 0.9299 - val_loss: 0.0037 - val_acc: 0.8996\n",
      "Epoch 43/300\n",
      "137s - loss: 0.0030 - acc: 0.9211 - val_loss: 0.0028 - val_acc: 0.9220\n",
      "Epoch 44/300\n",
      "137s - loss: 0.0029 - acc: 0.9243 - val_loss: 0.0029 - val_acc: 0.9164\n",
      "Epoch 45/300\n",
      "137s - loss: 0.0029 - acc: 0.9246 - val_loss: 0.0030 - val_acc: 0.9160\n",
      "Epoch 46/300\n",
      "137s - loss: 0.0027 - acc: 0.9275 - val_loss: 0.0026 - val_acc: 0.9286\n",
      "Epoch 47/300\n",
      "137s - loss: 0.0027 - acc: 0.9303 - val_loss: 0.0027 - val_acc: 0.9342\n",
      "Epoch 48/300\n",
      "137s - loss: 0.0027 - acc: 0.9290 - val_loss: 0.0026 - val_acc: 0.9361\n",
      "Epoch 49/300\n",
      "137s - loss: 0.0027 - acc: 0.9293 - val_loss: 0.0028 - val_acc: 0.9277\n",
      "Epoch 50/300\n",
      "137s - loss: 0.0027 - acc: 0.9293 - val_loss: 0.0026 - val_acc: 0.9352\n",
      "Epoch 51/300\n",
      "137s - loss: 0.0027 - acc: 0.9293 - val_loss: 0.0026 - val_acc: 0.9367\n",
      "Epoch 52/300\n",
      "137s - loss: 0.0027 - acc: 0.9296 - val_loss: 0.0026 - val_acc: 0.9304\n",
      "Epoch 53/300\n",
      "137s - loss: 0.0027 - acc: 0.9299 - val_loss: 0.0027 - val_acc: 0.9303\n",
      "Epoch 54/300\n",
      "137s - loss: 0.0027 - acc: 0.9304 - val_loss: 0.0030 - val_acc: 0.9172\n",
      "Epoch 55/300\n",
      "138s - loss: 0.0027 - acc: 0.9279 - val_loss: 0.0026 - val_acc: 0.9339\n",
      "Epoch 56/300\n",
      "137s - loss: 0.0026 - acc: 0.9329 - val_loss: 0.0026 - val_acc: 0.9342\n",
      "Epoch 57/300\n",
      "137s - loss: 0.0026 - acc: 0.9319 - val_loss: 0.0026 - val_acc: 0.9367\n",
      "Epoch 58/300\n",
      "137s - loss: 0.0027 - acc: 0.9305 - val_loss: 0.0025 - val_acc: 0.9362\n",
      "Epoch 59/300\n",
      "137s - loss: 0.0026 - acc: 0.9322 - val_loss: 0.0027 - val_acc: 0.9235\n",
      "Epoch 60/300\n",
      "137s - loss: 0.0027 - acc: 0.9298 - val_loss: 0.0026 - val_acc: 0.9296\n",
      "Epoch 61/300\n",
      "137s - loss: 0.0026 - acc: 0.9324 - val_loss: 0.0027 - val_acc: 0.9258\n",
      "Epoch 62/300\n",
      "137s - loss: 0.0026 - acc: 0.9329 - val_loss: 0.0026 - val_acc: 0.9308\n",
      "Epoch 63/300\n",
      "137s - loss: 0.0026 - acc: 0.9316 - val_loss: 0.0026 - val_acc: 0.9358\n",
      "Epoch 64/300\n",
      "137s - loss: 0.0027 - acc: 0.9300 - val_loss: 0.0026 - val_acc: 0.9383\n",
      "Epoch 65/300\n",
      "137s - loss: 0.0026 - acc: 0.9319 - val_loss: 0.0026 - val_acc: 0.9293\n",
      "Epoch 66/300\n",
      "137s - loss: 0.0026 - acc: 0.9321 - val_loss: 0.0026 - val_acc: 0.9326\n",
      "Epoch 67/300\n",
      "137s - loss: 0.0026 - acc: 0.9330 - val_loss: 0.0026 - val_acc: 0.9290\n",
      "Epoch 68/300\n",
      "137s - loss: 0.0026 - acc: 0.9317 - val_loss: 0.0026 - val_acc: 0.9407\n",
      "Epoch 69/300\n",
      "137s - loss: 0.0026 - acc: 0.9328 - val_loss: 0.0028 - val_acc: 0.9262\n",
      "Epoch 70/300\n",
      "137s - loss: 0.0027 - acc: 0.9268 - val_loss: 0.0025 - val_acc: 0.9364\n",
      "Epoch 71/300\n",
      "137s - loss: 0.0026 - acc: 0.9329 - val_loss: 0.0026 - val_acc: 0.9296\n",
      "Epoch 72/300\n",
      "137s - loss: 0.0026 - acc: 0.9336 - val_loss: 0.0025 - val_acc: 0.9344\n",
      "Epoch 73/300\n",
      "137s - loss: 0.0026 - acc: 0.9326 - val_loss: 0.0026 - val_acc: 0.9358\n",
      "Epoch 74/300\n",
      "137s - loss: 0.0026 - acc: 0.9329 - val_loss: 0.0028 - val_acc: 0.9194\n",
      "Epoch 75/300\n",
      "137s - loss: 0.0029 - acc: 0.9228 - val_loss: 0.0030 - val_acc: 0.9296\n",
      "Epoch 76/300\n",
      "137s - loss: 0.0028 - acc: 0.9288 - val_loss: 0.0025 - val_acc: 0.9348\n",
      "Epoch 77/300\n",
      "137s - loss: 0.0025 - acc: 0.9347 - val_loss: 0.0025 - val_acc: 0.9396\n",
      "Epoch 78/300\n",
      "137s - loss: 0.0025 - acc: 0.9349 - val_loss: 0.0025 - val_acc: 0.9390\n",
      "Epoch 79/300\n",
      "137s - loss: 0.0026 - acc: 0.9341 - val_loss: 0.0025 - val_acc: 0.9374\n",
      "Epoch 80/300\n",
      "137s - loss: 0.0026 - acc: 0.9321 - val_loss: 0.0025 - val_acc: 0.9405\n",
      "Epoch 81/300\n",
      "137s - loss: 0.0026 - acc: 0.9328 - val_loss: 0.0025 - val_acc: 0.9362\n",
      "Epoch 82/300\n",
      "137s - loss: 0.0026 - acc: 0.9335 - val_loss: 0.0026 - val_acc: 0.9303\n",
      "Epoch 83/300\n",
      "137s - loss: 0.0026 - acc: 0.9320 - val_loss: 0.0026 - val_acc: 0.9326\n",
      "Epoch 84/300\n",
      "137s - loss: 0.0026 - acc: 0.9318 - val_loss: 0.0028 - val_acc: 0.9337\n",
      "Epoch 85/300\n",
      "137s - loss: 0.0026 - acc: 0.9333 - val_loss: 0.0026 - val_acc: 0.9341\n",
      "Epoch 86/300\n",
      "137s - loss: 0.0025 - acc: 0.9352 - val_loss: 0.0024 - val_acc: 0.9347\n",
      "Epoch 87/300\n",
      "137s - loss: 0.0025 - acc: 0.9342 - val_loss: 0.0025 - val_acc: 0.9351\n",
      "Epoch 88/300\n",
      "137s - loss: 0.0026 - acc: 0.9315 - val_loss: 0.0027 - val_acc: 0.9401\n",
      "Epoch 89/300\n",
      "137s - loss: 0.0026 - acc: 0.9337 - val_loss: 0.0025 - val_acc: 0.9337\n",
      "Epoch 90/300\n",
      "137s - loss: 0.0025 - acc: 0.9348 - val_loss: 0.0025 - val_acc: 0.9363\n",
      "Epoch 91/300\n",
      "137s - loss: 0.0026 - acc: 0.9342 - val_loss: 0.0025 - val_acc: 0.9343\n",
      "Epoch 92/300\n",
      "137s - loss: 0.0025 - acc: 0.9353 - val_loss: 0.0026 - val_acc: 0.9286\n",
      "Epoch 93/300\n",
      "137s - loss: 0.0027 - acc: 0.9274 - val_loss: 0.0034 - val_acc: 0.9131\n",
      "Epoch 94/300\n",
      "137s - loss: 0.0028 - acc: 0.9284 - val_loss: 0.0026 - val_acc: 0.9270\n",
      "Epoch 95/300\n",
      "137s - loss: 0.0026 - acc: 0.9329 - val_loss: 0.0025 - val_acc: 0.9370\n",
      "Epoch 96/300\n",
      "137s - loss: 0.0026 - acc: 0.9318 - val_loss: 0.0026 - val_acc: 0.9301\n",
      "Epoch 97/300\n",
      "137s - loss: 0.0028 - acc: 0.9279 - val_loss: 0.0025 - val_acc: 0.9356\n",
      "Epoch 98/300\n",
      "137s - loss: 0.0025 - acc: 0.9350 - val_loss: 0.0025 - val_acc: 0.9300\n",
      "Epoch 99/300\n",
      "137s - loss: 0.0026 - acc: 0.9320 - val_loss: 0.0025 - val_acc: 0.9347\n",
      "Epoch 100/300\n",
      "137s - loss: 0.0025 - acc: 0.9341 - val_loss: 0.0025 - val_acc: 0.9377\n",
      "Epoch 101/300\n",
      "137s - loss: 0.0025 - acc: 0.9334 - val_loss: 0.0025 - val_acc: 0.9398\n",
      "Epoch 102/300\n",
      "137s - loss: 0.0025 - acc: 0.9347 - val_loss: 0.0025 - val_acc: 0.9369\n",
      "Epoch 103/300\n",
      "137s - loss: 0.0025 - acc: 0.9349 - val_loss: 0.0024 - val_acc: 0.9391\n",
      "Epoch 104/300\n",
      "137s - loss: 0.0025 - acc: 0.9353 - val_loss: 0.0024 - val_acc: 0.9403\n",
      "Epoch 105/300\n",
      "138s - loss: 0.0026 - acc: 0.9333 - val_loss: 0.0025 - val_acc: 0.9375\n",
      "Epoch 106/300\n",
      "137s - loss: 0.0025 - acc: 0.9352 - val_loss: 0.0026 - val_acc: 0.9344\n",
      "Epoch 107/300\n",
      "137s - loss: 0.0025 - acc: 0.9341 - val_loss: 0.0027 - val_acc: 0.9322\n",
      "Epoch 108/300\n",
      "137s - loss: 0.0025 - acc: 0.9347 - val_loss: 0.0024 - val_acc: 0.9374\n",
      "Epoch 109/300\n",
      "137s - loss: 0.0025 - acc: 0.9356 - val_loss: 0.0024 - val_acc: 0.9378\n",
      "Epoch 110/300\n",
      "137s - loss: 0.0025 - acc: 0.9343 - val_loss: 0.0024 - val_acc: 0.9402\n",
      "Epoch 111/300\n",
      "137s - loss: 0.0025 - acc: 0.9336 - val_loss: 0.0026 - val_acc: 0.9311\n",
      "Epoch 112/300\n",
      "137s - loss: 0.0026 - acc: 0.9316 - val_loss: 0.0029 - val_acc: 0.9259\n",
      "Epoch 113/300\n",
      "137s - loss: 0.0025 - acc: 0.9329 - val_loss: 0.0025 - val_acc: 0.9370\n",
      "Epoch 114/300\n",
      "137s - loss: 0.0025 - acc: 0.9353 - val_loss: 0.0025 - val_acc: 0.9395\n",
      "Epoch 115/300\n",
      "137s - loss: 0.0025 - acc: 0.9341 - val_loss: 0.0025 - val_acc: 0.9384\n",
      "Epoch 116/300\n",
      "137s - loss: 0.0025 - acc: 0.9353 - val_loss: 0.0025 - val_acc: 0.9389\n",
      "Epoch 117/300\n",
      "137s - loss: 0.0025 - acc: 0.9352 - val_loss: 0.0025 - val_acc: 0.9340\n",
      "Epoch 118/300\n",
      "137s - loss: 0.0025 - acc: 0.9366 - val_loss: 0.0025 - val_acc: 0.9290\n",
      "Epoch 119/300\n",
      "137s - loss: 0.0025 - acc: 0.9348 - val_loss: 0.0024 - val_acc: 0.9375\n",
      "Epoch 120/300\n",
      "137s - loss: 0.0025 - acc: 0.9354 - val_loss: 0.0024 - val_acc: 0.9374\n",
      "Epoch 121/300\n",
      "137s - loss: 0.0025 - acc: 0.9358 - val_loss: 0.0025 - val_acc: 0.9300\n",
      "Epoch 122/300\n",
      "138s - loss: 0.0025 - acc: 0.9349 - val_loss: 0.0027 - val_acc: 0.9368\n",
      "Epoch 123/300\n",
      "137s - loss: 0.0029 - acc: 0.9229 - val_loss: 0.0029 - val_acc: 0.9209\n",
      "Epoch 124/300\n",
      "137s - loss: 0.0029 - acc: 0.9218 - val_loss: 0.0028 - val_acc: 0.9232\n",
      "Epoch 125/300\n",
      "137s - loss: 0.0027 - acc: 0.9308 - val_loss: 0.0025 - val_acc: 0.9365\n",
      "Epoch 126/300\n",
      "137s - loss: 0.0025 - acc: 0.9354 - val_loss: 0.0025 - val_acc: 0.9380\n",
      "Epoch 127/300\n",
      "137s - loss: 0.0025 - acc: 0.9353 - val_loss: 0.0025 - val_acc: 0.9373\n",
      "Epoch 128/300\n",
      "137s - loss: 0.0025 - acc: 0.9343 - val_loss: 0.0025 - val_acc: 0.9428\n",
      "Epoch 129/300\n",
      "137s - loss: 0.0025 - acc: 0.9350 - val_loss: 0.0025 - val_acc: 0.9364\n",
      "Epoch 130/300\n",
      "137s - loss: 0.0025 - acc: 0.9348 - val_loss: 0.0029 - val_acc: 0.9225\n",
      "Epoch 131/300\n",
      "137s - loss: 0.0024 - acc: 0.9373 - val_loss: 0.0024 - val_acc: 0.9404\n",
      "Epoch 132/300\n",
      "137s - loss: 0.0025 - acc: 0.9342 - val_loss: 0.0026 - val_acc: 0.9404\n",
      "Epoch 133/300\n",
      "138s - loss: 0.0024 - acc: 0.9363 - val_loss: 0.0025 - val_acc: 0.9348\n",
      "Epoch 134/300\n",
      "137s - loss: 0.0025 - acc: 0.9338 - val_loss: 0.0025 - val_acc: 0.9361\n",
      "Epoch 135/300\n",
      "137s - loss: 0.0025 - acc: 0.9341 - val_loss: 0.0024 - val_acc: 0.9409\n",
      "Epoch 136/300\n",
      "137s - loss: 0.0025 - acc: 0.9351 - val_loss: 0.0027 - val_acc: 0.9311\n",
      "Epoch 137/300\n",
      "137s - loss: 0.0026 - acc: 0.9342 - val_loss: 0.0026 - val_acc: 0.9353\n",
      "Epoch 138/300\n",
      "137s - loss: 0.0025 - acc: 0.9363 - val_loss: 0.0024 - val_acc: 0.9438\n",
      "Epoch 139/300\n",
      "137s - loss: 0.0025 - acc: 0.9365 - val_loss: 0.0024 - val_acc: 0.9362\n",
      "Epoch 140/300\n",
      "137s - loss: 0.0025 - acc: 0.9355 - val_loss: 0.0024 - val_acc: 0.9342\n",
      "Epoch 141/300\n",
      "137s - loss: 0.0025 - acc: 0.9354 - val_loss: 0.0024 - val_acc: 0.9414\n",
      "Epoch 142/300\n",
      "137s - loss: 0.0025 - acc: 0.9361 - val_loss: 0.0025 - val_acc: 0.9384\n",
      "Epoch 143/300\n",
      "137s - loss: 0.0024 - acc: 0.9359 - val_loss: 0.0026 - val_acc: 0.9395\n",
      "Epoch 144/300\n",
      "137s - loss: 0.0024 - acc: 0.9366 - val_loss: 0.0023 - val_acc: 0.9417\n",
      "Epoch 145/300\n",
      "137s - loss: 0.0025 - acc: 0.9356 - val_loss: 0.0025 - val_acc: 0.9362\n",
      "Epoch 146/300\n",
      "137s - loss: 0.0025 - acc: 0.9356 - val_loss: 0.0024 - val_acc: 0.9382\n",
      "Epoch 147/300\n",
      "137s - loss: 0.0024 - acc: 0.9372 - val_loss: 0.0024 - val_acc: 0.9387\n",
      "Epoch 148/300\n",
      "137s - loss: 0.0025 - acc: 0.9359 - val_loss: 0.0025 - val_acc: 0.9347\n",
      "Epoch 149/300\n",
      "137s - loss: 0.0025 - acc: 0.9356 - val_loss: 0.0024 - val_acc: 0.9401\n",
      "Epoch 150/300\n",
      "137s - loss: 0.0024 - acc: 0.9367 - val_loss: 0.0024 - val_acc: 0.9409\n",
      "Epoch 151/300\n",
      "137s - loss: 0.0024 - acc: 0.9370 - val_loss: 0.0024 - val_acc: 0.9412\n",
      "Epoch 152/300\n",
      "137s - loss: 0.0025 - acc: 0.9365 - val_loss: 0.0024 - val_acc: 0.9384\n",
      "Epoch 153/300\n",
      "137s - loss: 0.0030 - acc: 0.9176 - val_loss: 0.0030 - val_acc: 0.9218\n",
      "Epoch 154/300\n",
      "137s - loss: 0.0030 - acc: 0.9206 - val_loss: 0.0030 - val_acc: 0.9144\n",
      "Epoch 155/300\n",
      "137s - loss: 0.0029 - acc: 0.9228 - val_loss: 0.0029 - val_acc: 0.9238\n",
      "Epoch 156/300\n",
      "137s - loss: 0.0029 - acc: 0.9253 - val_loss: 0.0029 - val_acc: 0.9231\n",
      "Epoch 157/300\n",
      "137s - loss: 0.0028 - acc: 0.9256 - val_loss: 0.0028 - val_acc: 0.9284\n",
      "Epoch 158/300\n",
      "137s - loss: 0.0028 - acc: 0.9265 - val_loss: 0.0028 - val_acc: 0.9295\n",
      "Epoch 159/300\n",
      "137s - loss: 0.0029 - acc: 0.9223 - val_loss: 0.0028 - val_acc: 0.9321\n",
      "Epoch 160/300\n",
      "137s - loss: 0.0028 - acc: 0.9281 - val_loss: 0.0027 - val_acc: 0.9323\n",
      "Epoch 161/300\n",
      "137s - loss: 0.0028 - acc: 0.9263 - val_loss: 0.0028 - val_acc: 0.9269\n",
      "Epoch 162/300\n",
      "137s - loss: 0.0027 - acc: 0.9325 - val_loss: 0.0025 - val_acc: 0.9391\n",
      "Epoch 163/300\n",
      "137s - loss: 0.0026 - acc: 0.9343 - val_loss: 0.0025 - val_acc: 0.9348\n",
      "Epoch 164/300\n",
      "137s - loss: 0.0026 - acc: 0.9346 - val_loss: 0.0027 - val_acc: 0.9277\n",
      "Epoch 165/300\n",
      "137s - loss: 0.0026 - acc: 0.9342 - val_loss: 0.0026 - val_acc: 0.9284\n",
      "Epoch 166/300\n",
      "137s - loss: 0.0026 - acc: 0.9320 - val_loss: 0.0026 - val_acc: 0.9359\n",
      "Epoch 167/300\n",
      "137s - loss: 0.0026 - acc: 0.9341 - val_loss: 0.0026 - val_acc: 0.9413\n",
      "Epoch 168/300\n",
      "137s - loss: 0.0026 - acc: 0.9343 - val_loss: 0.0027 - val_acc: 0.9356\n",
      "Epoch 169/300\n",
      "149s - loss: 0.0026 - acc: 0.9328 - val_loss: 0.0026 - val_acc: 0.9389\n",
      "Epoch 170/300\n",
      "149s - loss: 0.0026 - acc: 0.9329 - val_loss: 0.0026 - val_acc: 0.9318\n",
      "Epoch 171/300\n",
      "143s - loss: 0.0025 - acc: 0.9356 - val_loss: 0.0025 - val_acc: 0.9365\n",
      "Epoch 172/300\n",
      "141s - loss: 0.0025 - acc: 0.9344 - val_loss: 0.0025 - val_acc: 0.9371\n",
      "Epoch 173/300\n",
      "143s - loss: 0.0026 - acc: 0.9334 - val_loss: 0.0027 - val_acc: 0.9273\n",
      "Epoch 174/300\n",
      "148s - loss: 0.0028 - acc: 0.9274 - val_loss: 0.0031 - val_acc: 0.9210\n",
      "Epoch 175/300\n",
      "146s - loss: 0.0028 - acc: 0.9243 - val_loss: 0.0028 - val_acc: 0.9302\n",
      "Epoch 176/300\n",
      "149s - loss: 0.0027 - acc: 0.9280 - val_loss: 0.0027 - val_acc: 0.9303\n",
      "Epoch 177/300\n",
      "148s - loss: 0.0026 - acc: 0.9344 - val_loss: 0.0026 - val_acc: 0.9332\n",
      "Epoch 178/300\n",
      "164s - loss: 0.0026 - acc: 0.9340 - val_loss: 0.0026 - val_acc: 0.9361\n",
      "Epoch 179/300\n",
      "163s - loss: 0.0026 - acc: 0.9343 - val_loss: 0.0025 - val_acc: 0.9417\n",
      "Epoch 180/300\n",
      "162s - loss: 0.0025 - acc: 0.9374 - val_loss: 0.0025 - val_acc: 0.9434\n",
      "Epoch 181/300\n",
      "163s - loss: 0.0025 - acc: 0.9363 - val_loss: 0.0025 - val_acc: 0.9326\n",
      "Epoch 182/300\n",
      "163s - loss: 0.0029 - acc: 0.9228 - val_loss: 0.0029 - val_acc: 0.9172\n",
      "Epoch 183/300\n",
      "163s - loss: 0.0030 - acc: 0.9161 - val_loss: 0.0028 - val_acc: 0.9223\n",
      "Epoch 184/300\n",
      "164s - loss: 0.0028 - acc: 0.9276 - val_loss: 0.0027 - val_acc: 0.9288\n",
      "Epoch 185/300\n",
      "158s - loss: 0.0027 - acc: 0.9309 - val_loss: 0.0026 - val_acc: 0.9324\n",
      "Epoch 186/300\n",
      "145s - loss: 0.0026 - acc: 0.9330 - val_loss: 0.0026 - val_acc: 0.9398\n",
      "Epoch 187/300\n",
      "144s - loss: 0.0025 - acc: 0.9346 - val_loss: 0.0025 - val_acc: 0.9388\n",
      "Epoch 188/300\n",
      "144s - loss: 0.0025 - acc: 0.9349 - val_loss: 0.0025 - val_acc: 0.9383\n",
      "Epoch 189/300\n",
      "145s - loss: 0.0025 - acc: 0.9361 - val_loss: 0.0025 - val_acc: 0.9426\n",
      "Epoch 190/300\n",
      "145s - loss: 0.0025 - acc: 0.9356 - val_loss: 0.0026 - val_acc: 0.9311\n",
      "Epoch 191/300\n",
      "144s - loss: 0.0025 - acc: 0.9350 - val_loss: 0.0025 - val_acc: 0.9391\n",
      "Epoch 192/300\n",
      "144s - loss: 0.0025 - acc: 0.9347 - val_loss: 0.0026 - val_acc: 0.9351\n",
      "Epoch 193/300\n",
      "145s - loss: 0.0025 - acc: 0.9360 - val_loss: 0.0026 - val_acc: 0.9382\n",
      "Epoch 194/300\n",
      "144s - loss: 0.0024 - acc: 0.9377 - val_loss: 0.0025 - val_acc: 0.9391\n",
      "Epoch 195/300\n",
      "144s - loss: 0.0025 - acc: 0.9355 - val_loss: 0.0029 - val_acc: 0.9203\n",
      "Epoch 196/300\n",
      "144s - loss: 0.0025 - acc: 0.9352 - val_loss: 0.0025 - val_acc: 0.9402\n",
      "Epoch 197/300\n",
      "144s - loss: 0.0025 - acc: 0.9354 - val_loss: 0.0025 - val_acc: 0.9343\n",
      "Epoch 198/300\n",
      "147s - loss: 0.0025 - acc: 0.9347 - val_loss: 0.0026 - val_acc: 0.9345\n",
      "Epoch 199/300\n",
      "144s - loss: 0.0025 - acc: 0.9347 - val_loss: 0.0026 - val_acc: 0.9315\n",
      "Epoch 200/300\n",
      "144s - loss: 0.0025 - acc: 0.9344 - val_loss: 0.0025 - val_acc: 0.9358\n",
      "Epoch 201/300\n",
      "145s - loss: 0.0025 - acc: 0.9355 - val_loss: 0.0024 - val_acc: 0.9447\n",
      "Epoch 202/300\n",
      "144s - loss: 0.0025 - acc: 0.9359 - val_loss: 0.0026 - val_acc: 0.9352\n",
      "Epoch 203/300\n",
      "144s - loss: 0.0025 - acc: 0.9351 - val_loss: 0.0025 - val_acc: 0.9377\n",
      "Epoch 204/300\n",
      "144s - loss: 0.0025 - acc: 0.9367 - val_loss: 0.0029 - val_acc: 0.9253\n",
      "Epoch 205/300\n",
      "144s - loss: 0.0025 - acc: 0.9344 - val_loss: 0.0025 - val_acc: 0.9387\n",
      "Epoch 206/300\n",
      "144s - loss: 0.0026 - acc: 0.9339 - val_loss: 0.0025 - val_acc: 0.9375\n",
      "Epoch 207/300\n",
      "145s - loss: 0.0025 - acc: 0.9355 - val_loss: 0.0025 - val_acc: 0.9401\n",
      "Epoch 208/300\n",
      "145s - loss: 0.0026 - acc: 0.9337 - val_loss: 0.0026 - val_acc: 0.9398\n",
      "Epoch 209/300\n",
      "151s - loss: 0.0025 - acc: 0.9346 - val_loss: 0.0026 - val_acc: 0.9410\n",
      "Epoch 210/300\n",
      "146s - loss: 0.0025 - acc: 0.9336 - val_loss: 0.0025 - val_acc: 0.9395\n",
      "Epoch 211/300\n",
      "139s - loss: 0.0026 - acc: 0.9337 - val_loss: 0.0026 - val_acc: 0.9362\n",
      "Epoch 212/300\n",
      "140s - loss: 0.0025 - acc: 0.9348 - val_loss: 0.0025 - val_acc: 0.9412\n",
      "Epoch 213/300\n",
      "146s - loss: 0.0025 - acc: 0.9356 - val_loss: 0.0027 - val_acc: 0.9314\n",
      "Epoch 214/300\n",
      "139s - loss: 0.0025 - acc: 0.9357 - val_loss: 0.0025 - val_acc: 0.9390\n",
      "Epoch 215/300\n",
      "139s - loss: 0.0025 - acc: 0.9336 - val_loss: 0.0027 - val_acc: 0.9406\n",
      "Epoch 216/300\n",
      "139s - loss: 0.0025 - acc: 0.9349 - val_loss: 0.0025 - val_acc: 0.9397\n",
      "Epoch 217/300\n",
      "139s - loss: 0.0025 - acc: 0.9355 - val_loss: 0.0026 - val_acc: 0.9360\n",
      "Epoch 218/300\n",
      "139s - loss: 0.0027 - acc: 0.9312 - val_loss: 0.0028 - val_acc: 0.9298\n",
      "Epoch 219/300\n",
      "139s - loss: 0.0026 - acc: 0.9310 - val_loss: 0.0026 - val_acc: 0.9373\n",
      "Epoch 220/300\n",
      "139s - loss: 0.0024 - acc: 0.9363 - val_loss: 0.0025 - val_acc: 0.9351\n",
      "Epoch 221/300\n",
      "139s - loss: 0.0024 - acc: 0.9379 - val_loss: 0.0025 - val_acc: 0.9416\n",
      "Epoch 222/300\n",
      "139s - loss: 0.0025 - acc: 0.9347 - val_loss: 0.0026 - val_acc: 0.9361\n",
      "Epoch 223/300\n",
      "139s - loss: 0.0025 - acc: 0.9346 - val_loss: 0.0026 - val_acc: 0.9331\n",
      "Epoch 224/300\n",
      "139s - loss: 0.0025 - acc: 0.9349 - val_loss: 0.0026 - val_acc: 0.9361\n",
      "Epoch 225/300\n",
      "139s - loss: 0.0025 - acc: 0.9372 - val_loss: 0.0025 - val_acc: 0.9408\n",
      "Epoch 226/300\n",
      "140s - loss: 0.0024 - acc: 0.9381 - val_loss: 0.0024 - val_acc: 0.9392\n",
      "Epoch 227/300\n",
      "139s - loss: 0.0025 - acc: 0.9357 - val_loss: 0.0027 - val_acc: 0.9153\n",
      "Epoch 228/300\n",
      "140s - loss: 0.0025 - acc: 0.9358 - val_loss: 0.0025 - val_acc: 0.9415\n",
      "Epoch 229/300\n",
      "140s - loss: 0.0025 - acc: 0.9359 - val_loss: 0.0026 - val_acc: 0.9360\n",
      "Epoch 230/300\n",
      "139s - loss: 0.0025 - acc: 0.9349 - val_loss: 0.0030 - val_acc: 0.9251\n",
      "Epoch 231/300\n",
      "139s - loss: 0.0026 - acc: 0.9333 - val_loss: 0.0026 - val_acc: 0.9389\n",
      "Epoch 232/300\n",
      "139s - loss: 0.0025 - acc: 0.9365 - val_loss: 0.0025 - val_acc: 0.9399\n",
      "Epoch 233/300\n",
      "139s - loss: 0.0025 - acc: 0.9349 - val_loss: 0.0026 - val_acc: 0.9358\n",
      "Epoch 234/300\n",
      "140s - loss: 0.0025 - acc: 0.9354 - val_loss: 0.0025 - val_acc: 0.9354\n",
      "Epoch 235/300\n",
      "139s - loss: 0.0025 - acc: 0.9364 - val_loss: 0.0025 - val_acc: 0.9366\n",
      "Epoch 236/300\n",
      "141s - loss: 0.0025 - acc: 0.9362 - val_loss: 0.0024 - val_acc: 0.9384\n",
      "Epoch 237/300\n",
      "147s - loss: 0.0025 - acc: 0.9343 - val_loss: 0.0028 - val_acc: 0.9210\n",
      "Epoch 238/300\n",
      "151s - loss: 0.0027 - acc: 0.9300 - val_loss: 0.0027 - val_acc: 0.9250\n",
      "Epoch 239/300\n",
      "145s - loss: 0.0026 - acc: 0.9333 - val_loss: 0.0026 - val_acc: 0.9375\n",
      "Epoch 240/300\n",
      "144s - loss: 0.0026 - acc: 0.9319 - val_loss: 0.0026 - val_acc: 0.9358\n",
      "Epoch 241/300\n",
      "144s - loss: 0.0026 - acc: 0.9349 - val_loss: 0.0026 - val_acc: 0.9343\n",
      "Epoch 242/300\n",
      "145s - loss: 0.0027 - acc: 0.9311 - val_loss: 0.0025 - val_acc: 0.9386\n",
      "Epoch 243/300\n",
      "145s - loss: 0.0026 - acc: 0.9331 - val_loss: 0.0025 - val_acc: 0.9354\n",
      "Epoch 244/300\n",
      "150s - loss: 0.0025 - acc: 0.9357 - val_loss: 0.0025 - val_acc: 0.9382\n",
      "Epoch 245/300\n"
     ]
    },
    {
     "ename": "KeyboardInterrupt",
     "evalue": "",
     "output_type": "error",
     "traceback": [
      "\u001b[0;31m---------------------------------------------------------------------------\u001b[0m",
      "\u001b[0;31mKeyboardInterrupt\u001b[0m                         Traceback (most recent call last)",
      "\u001b[0;32m<ipython-input-4-c6571df8eda0>\u001b[0m in \u001b[0;36m<module>\u001b[0;34m()\u001b[0m\n\u001b[0;32m----> 1\u001b[0;31m \u001b[0mhistory\u001b[0m \u001b[0;34m=\u001b[0m \u001b[0mmodel\u001b[0m\u001b[0;34m.\u001b[0m\u001b[0mfit\u001b[0m\u001b[0;34m(\u001b[0m\u001b[0minputs\u001b[0m\u001b[0;34m[\u001b[0m\u001b[0;36m0\u001b[0m\u001b[0;34m:\u001b[0m\u001b[0mntrain\u001b[0m\u001b[0;34m,\u001b[0m\u001b[0;34m:\u001b[0m\u001b[0;34m,\u001b[0m\u001b[0mcols\u001b[0m\u001b[0;34m]\u001b[0m\u001b[0;34m,\u001b[0m \u001b[0moutputs\u001b[0m\u001b[0;34m[\u001b[0m\u001b[0;36m0\u001b[0m\u001b[0;34m:\u001b[0m\u001b[0mntrain\u001b[0m\u001b[0;34m,\u001b[0m\u001b[0;34m:\u001b[0m\u001b[0;34m,\u001b[0m\u001b[0;34m:\u001b[0m\u001b[0;34m]\u001b[0m\u001b[0;34m,\u001b[0m \u001b[0mnb_epoch\u001b[0m\u001b[0;34m=\u001b[0m\u001b[0;36m300\u001b[0m\u001b[0;34m,\u001b[0m \u001b[0mbatch_size\u001b[0m\u001b[0;34m=\u001b[0m\u001b[0;36m32\u001b[0m\u001b[0;34m,\u001b[0m \u001b[0mverbose\u001b[0m\u001b[0;34m=\u001b[0m\u001b[0;36m2\u001b[0m \u001b[0;34m,\u001b[0m \u001b[0mvalidation_split\u001b[0m\u001b[0;34m=\u001b[0m\u001b[0;36m0.1\u001b[0m\u001b[0;34m)\u001b[0m\u001b[0;34m\u001b[0m\u001b[0m\n\u001b[0m",
      "\u001b[0;32m/home/lukasz/anaconda2/envs/event-detector/lib/python2.7/site-packages/keras/models.pyc\u001b[0m in \u001b[0;36mfit\u001b[0;34m(self, x, y, batch_size, nb_epoch, verbose, callbacks, validation_split, validation_data, shuffle, class_weight, sample_weight, initial_epoch, **kwargs)\u001b[0m\n\u001b[1;32m    670\u001b[0m                               \u001b[0mclass_weight\u001b[0m\u001b[0;34m=\u001b[0m\u001b[0mclass_weight\u001b[0m\u001b[0;34m,\u001b[0m\u001b[0;34m\u001b[0m\u001b[0m\n\u001b[1;32m    671\u001b[0m                               \u001b[0msample_weight\u001b[0m\u001b[0;34m=\u001b[0m\u001b[0msample_weight\u001b[0m\u001b[0;34m,\u001b[0m\u001b[0;34m\u001b[0m\u001b[0m\n\u001b[0;32m--> 672\u001b[0;31m                               initial_epoch=initial_epoch)\n\u001b[0m\u001b[1;32m    673\u001b[0m \u001b[0;34m\u001b[0m\u001b[0m\n\u001b[1;32m    674\u001b[0m     def evaluate(self, x, y, batch_size=32, verbose=1,\n",
      "\u001b[0;32m/home/lukasz/anaconda2/envs/event-detector/lib/python2.7/site-packages/keras/engine/training.pyc\u001b[0m in \u001b[0;36mfit\u001b[0;34m(self, x, y, batch_size, nb_epoch, verbose, callbacks, validation_split, validation_data, shuffle, class_weight, sample_weight, initial_epoch)\u001b[0m\n\u001b[1;32m   1190\u001b[0m                               \u001b[0mval_f\u001b[0m\u001b[0;34m=\u001b[0m\u001b[0mval_f\u001b[0m\u001b[0;34m,\u001b[0m \u001b[0mval_ins\u001b[0m\u001b[0;34m=\u001b[0m\u001b[0mval_ins\u001b[0m\u001b[0;34m,\u001b[0m \u001b[0mshuffle\u001b[0m\u001b[0;34m=\u001b[0m\u001b[0mshuffle\u001b[0m\u001b[0;34m,\u001b[0m\u001b[0;34m\u001b[0m\u001b[0m\n\u001b[1;32m   1191\u001b[0m                               \u001b[0mcallback_metrics\u001b[0m\u001b[0;34m=\u001b[0m\u001b[0mcallback_metrics\u001b[0m\u001b[0;34m,\u001b[0m\u001b[0;34m\u001b[0m\u001b[0m\n\u001b[0;32m-> 1192\u001b[0;31m                               initial_epoch=initial_epoch)\n\u001b[0m\u001b[1;32m   1193\u001b[0m \u001b[0;34m\u001b[0m\u001b[0m\n\u001b[1;32m   1194\u001b[0m     \u001b[0;32mdef\u001b[0m \u001b[0mevaluate\u001b[0m\u001b[0;34m(\u001b[0m\u001b[0mself\u001b[0m\u001b[0;34m,\u001b[0m \u001b[0mx\u001b[0m\u001b[0;34m,\u001b[0m \u001b[0my\u001b[0m\u001b[0;34m,\u001b[0m \u001b[0mbatch_size\u001b[0m\u001b[0;34m=\u001b[0m\u001b[0;36m32\u001b[0m\u001b[0;34m,\u001b[0m \u001b[0mverbose\u001b[0m\u001b[0;34m=\u001b[0m\u001b[0;36m1\u001b[0m\u001b[0;34m,\u001b[0m \u001b[0msample_weight\u001b[0m\u001b[0;34m=\u001b[0m\u001b[0mNone\u001b[0m\u001b[0;34m)\u001b[0m\u001b[0;34m:\u001b[0m\u001b[0;34m\u001b[0m\u001b[0m\n",
      "\u001b[0;32m/home/lukasz/anaconda2/envs/event-detector/lib/python2.7/site-packages/keras/engine/training.pyc\u001b[0m in \u001b[0;36m_fit_loop\u001b[0;34m(self, f, ins, out_labels, batch_size, nb_epoch, verbose, callbacks, val_f, val_ins, shuffle, callback_metrics, initial_epoch)\u001b[0m\n\u001b[1;32m    890\u001b[0m                 \u001b[0mbatch_logs\u001b[0m\u001b[0;34m[\u001b[0m\u001b[0;34m'size'\u001b[0m\u001b[0;34m]\u001b[0m \u001b[0;34m=\u001b[0m \u001b[0mlen\u001b[0m\u001b[0;34m(\u001b[0m\u001b[0mbatch_ids\u001b[0m\u001b[0;34m)\u001b[0m\u001b[0;34m\u001b[0m\u001b[0m\n\u001b[1;32m    891\u001b[0m                 \u001b[0mcallbacks\u001b[0m\u001b[0;34m.\u001b[0m\u001b[0mon_batch_begin\u001b[0m\u001b[0;34m(\u001b[0m\u001b[0mbatch_index\u001b[0m\u001b[0;34m,\u001b[0m \u001b[0mbatch_logs\u001b[0m\u001b[0;34m)\u001b[0m\u001b[0;34m\u001b[0m\u001b[0m\n\u001b[0;32m--> 892\u001b[0;31m                 \u001b[0mouts\u001b[0m \u001b[0;34m=\u001b[0m \u001b[0mf\u001b[0m\u001b[0;34m(\u001b[0m\u001b[0mins_batch\u001b[0m\u001b[0;34m)\u001b[0m\u001b[0;34m\u001b[0m\u001b[0m\n\u001b[0m\u001b[1;32m    893\u001b[0m                 \u001b[0;32mif\u001b[0m \u001b[0;32mnot\u001b[0m \u001b[0misinstance\u001b[0m\u001b[0;34m(\u001b[0m\u001b[0mouts\u001b[0m\u001b[0;34m,\u001b[0m \u001b[0mlist\u001b[0m\u001b[0;34m)\u001b[0m\u001b[0;34m:\u001b[0m\u001b[0;34m\u001b[0m\u001b[0m\n\u001b[1;32m    894\u001b[0m                     \u001b[0mouts\u001b[0m \u001b[0;34m=\u001b[0m \u001b[0;34m[\u001b[0m\u001b[0mouts\u001b[0m\u001b[0;34m]\u001b[0m\u001b[0;34m\u001b[0m\u001b[0m\n",
      "\u001b[0;32m/home/lukasz/anaconda2/envs/event-detector/lib/python2.7/site-packages/keras/backend/tensorflow_backend.pyc\u001b[0m in \u001b[0;36m__call__\u001b[0;34m(self, inputs)\u001b[0m\n\u001b[1;32m   1898\u001b[0m         \u001b[0msession\u001b[0m \u001b[0;34m=\u001b[0m \u001b[0mget_session\u001b[0m\u001b[0;34m(\u001b[0m\u001b[0;34m)\u001b[0m\u001b[0;34m\u001b[0m\u001b[0m\n\u001b[1;32m   1899\u001b[0m         updated = session.run(self.outputs + [self.updates_op],\n\u001b[0;32m-> 1900\u001b[0;31m                               feed_dict=feed_dict)\n\u001b[0m\u001b[1;32m   1901\u001b[0m         \u001b[0;32mreturn\u001b[0m \u001b[0mupdated\u001b[0m\u001b[0;34m[\u001b[0m\u001b[0;34m:\u001b[0m\u001b[0mlen\u001b[0m\u001b[0;34m(\u001b[0m\u001b[0mself\u001b[0m\u001b[0;34m.\u001b[0m\u001b[0moutputs\u001b[0m\u001b[0;34m)\u001b[0m\u001b[0;34m]\u001b[0m\u001b[0;34m\u001b[0m\u001b[0m\n\u001b[1;32m   1902\u001b[0m \u001b[0;34m\u001b[0m\u001b[0m\n",
      "\u001b[0;32m/home/lukasz/anaconda2/envs/event-detector/lib/python2.7/site-packages/tensorflow/python/client/session.pyc\u001b[0m in \u001b[0;36mrun\u001b[0;34m(self, fetches, feed_dict, options, run_metadata)\u001b[0m\n\u001b[1;32m    764\u001b[0m     \u001b[0;32mtry\u001b[0m\u001b[0;34m:\u001b[0m\u001b[0;34m\u001b[0m\u001b[0m\n\u001b[1;32m    765\u001b[0m       result = self._run(None, fetches, feed_dict, options_ptr,\n\u001b[0;32m--> 766\u001b[0;31m                          run_metadata_ptr)\n\u001b[0m\u001b[1;32m    767\u001b[0m       \u001b[0;32mif\u001b[0m \u001b[0mrun_metadata\u001b[0m\u001b[0;34m:\u001b[0m\u001b[0;34m\u001b[0m\u001b[0m\n\u001b[1;32m    768\u001b[0m         \u001b[0mproto_data\u001b[0m \u001b[0;34m=\u001b[0m \u001b[0mtf_session\u001b[0m\u001b[0;34m.\u001b[0m\u001b[0mTF_GetBuffer\u001b[0m\u001b[0;34m(\u001b[0m\u001b[0mrun_metadata_ptr\u001b[0m\u001b[0;34m)\u001b[0m\u001b[0;34m\u001b[0m\u001b[0m\n",
      "\u001b[0;32m/home/lukasz/anaconda2/envs/event-detector/lib/python2.7/site-packages/tensorflow/python/client/session.pyc\u001b[0m in \u001b[0;36m_run\u001b[0;34m(self, handle, fetches, feed_dict, options, run_metadata)\u001b[0m\n\u001b[1;32m    962\u001b[0m     \u001b[0;32mif\u001b[0m \u001b[0mfinal_fetches\u001b[0m \u001b[0;32mor\u001b[0m \u001b[0mfinal_targets\u001b[0m\u001b[0;34m:\u001b[0m\u001b[0;34m\u001b[0m\u001b[0m\n\u001b[1;32m    963\u001b[0m       results = self._do_run(handle, final_targets, final_fetches,\n\u001b[0;32m--> 964\u001b[0;31m                              feed_dict_string, options, run_metadata)\n\u001b[0m\u001b[1;32m    965\u001b[0m     \u001b[0;32melse\u001b[0m\u001b[0;34m:\u001b[0m\u001b[0;34m\u001b[0m\u001b[0m\n\u001b[1;32m    966\u001b[0m       \u001b[0mresults\u001b[0m \u001b[0;34m=\u001b[0m \u001b[0;34m[\u001b[0m\u001b[0;34m]\u001b[0m\u001b[0;34m\u001b[0m\u001b[0m\n",
      "\u001b[0;32m/home/lukasz/anaconda2/envs/event-detector/lib/python2.7/site-packages/tensorflow/python/client/session.pyc\u001b[0m in \u001b[0;36m_do_run\u001b[0;34m(self, handle, target_list, fetch_list, feed_dict, options, run_metadata)\u001b[0m\n\u001b[1;32m   1012\u001b[0m     \u001b[0;32mif\u001b[0m \u001b[0mhandle\u001b[0m \u001b[0;32mis\u001b[0m \u001b[0mNone\u001b[0m\u001b[0;34m:\u001b[0m\u001b[0;34m\u001b[0m\u001b[0m\n\u001b[1;32m   1013\u001b[0m       return self._do_call(_run_fn, self._session, feed_dict, fetch_list,\n\u001b[0;32m-> 1014\u001b[0;31m                            target_list, options, run_metadata)\n\u001b[0m\u001b[1;32m   1015\u001b[0m     \u001b[0;32melse\u001b[0m\u001b[0;34m:\u001b[0m\u001b[0;34m\u001b[0m\u001b[0m\n\u001b[1;32m   1016\u001b[0m       return self._do_call(_prun_fn, self._session, handle, feed_dict,\n",
      "\u001b[0;32m/home/lukasz/anaconda2/envs/event-detector/lib/python2.7/site-packages/tensorflow/python/client/session.pyc\u001b[0m in \u001b[0;36m_do_call\u001b[0;34m(self, fn, *args)\u001b[0m\n\u001b[1;32m   1019\u001b[0m   \u001b[0;32mdef\u001b[0m \u001b[0m_do_call\u001b[0m\u001b[0;34m(\u001b[0m\u001b[0mself\u001b[0m\u001b[0;34m,\u001b[0m \u001b[0mfn\u001b[0m\u001b[0;34m,\u001b[0m \u001b[0;34m*\u001b[0m\u001b[0margs\u001b[0m\u001b[0;34m)\u001b[0m\u001b[0;34m:\u001b[0m\u001b[0;34m\u001b[0m\u001b[0m\n\u001b[1;32m   1020\u001b[0m     \u001b[0;32mtry\u001b[0m\u001b[0;34m:\u001b[0m\u001b[0;34m\u001b[0m\u001b[0m\n\u001b[0;32m-> 1021\u001b[0;31m       \u001b[0;32mreturn\u001b[0m \u001b[0mfn\u001b[0m\u001b[0;34m(\u001b[0m\u001b[0;34m*\u001b[0m\u001b[0margs\u001b[0m\u001b[0;34m)\u001b[0m\u001b[0;34m\u001b[0m\u001b[0m\n\u001b[0m\u001b[1;32m   1022\u001b[0m     \u001b[0;32mexcept\u001b[0m \u001b[0merrors\u001b[0m\u001b[0;34m.\u001b[0m\u001b[0mOpError\u001b[0m \u001b[0;32mas\u001b[0m \u001b[0me\u001b[0m\u001b[0;34m:\u001b[0m\u001b[0;34m\u001b[0m\u001b[0m\n\u001b[1;32m   1023\u001b[0m       \u001b[0mmessage\u001b[0m \u001b[0;34m=\u001b[0m \u001b[0mcompat\u001b[0m\u001b[0;34m.\u001b[0m\u001b[0mas_text\u001b[0m\u001b[0;34m(\u001b[0m\u001b[0me\u001b[0m\u001b[0;34m.\u001b[0m\u001b[0mmessage\u001b[0m\u001b[0;34m)\u001b[0m\u001b[0;34m\u001b[0m\u001b[0m\n",
      "\u001b[0;32m/home/lukasz/anaconda2/envs/event-detector/lib/python2.7/site-packages/tensorflow/python/client/session.pyc\u001b[0m in \u001b[0;36m_run_fn\u001b[0;34m(session, feed_dict, fetch_list, target_list, options, run_metadata)\u001b[0m\n\u001b[1;32m   1001\u001b[0m         return tf_session.TF_Run(session, options,\n\u001b[1;32m   1002\u001b[0m                                  \u001b[0mfeed_dict\u001b[0m\u001b[0;34m,\u001b[0m \u001b[0mfetch_list\u001b[0m\u001b[0;34m,\u001b[0m \u001b[0mtarget_list\u001b[0m\u001b[0;34m,\u001b[0m\u001b[0;34m\u001b[0m\u001b[0m\n\u001b[0;32m-> 1003\u001b[0;31m                                  status, run_metadata)\n\u001b[0m\u001b[1;32m   1004\u001b[0m \u001b[0;34m\u001b[0m\u001b[0m\n\u001b[1;32m   1005\u001b[0m     \u001b[0;32mdef\u001b[0m \u001b[0m_prun_fn\u001b[0m\u001b[0;34m(\u001b[0m\u001b[0msession\u001b[0m\u001b[0;34m,\u001b[0m \u001b[0mhandle\u001b[0m\u001b[0;34m,\u001b[0m \u001b[0mfeed_dict\u001b[0m\u001b[0;34m,\u001b[0m \u001b[0mfetch_list\u001b[0m\u001b[0;34m)\u001b[0m\u001b[0;34m:\u001b[0m\u001b[0;34m\u001b[0m\u001b[0m\n",
      "\u001b[0;31mKeyboardInterrupt\u001b[0m: "
     ]
    }
   ],
   "source": [
    "history = model.fit(inputs[0:ntrain,:,cols], outputs[0:ntrain,:,:], nb_epoch=300, batch_size=32, verbose=2 , validation_split=0.1)"
   ]
  },
  {
   "cell_type": "code",
   "execution_count": 5,
   "metadata": {
    "collapsed": false
   },
   "outputs": [
    {
     "ename": "NameError",
     "evalue": "name 'history' is not defined",
     "output_type": "error",
     "traceback": [
      "\u001b[0;31m---------------------------------------------------------------------------\u001b[0m",
      "\u001b[0;31mNameError\u001b[0m                                 Traceback (most recent call last)",
      "\u001b[0;32m<ipython-input-5-21cf4b208a30>\u001b[0m in \u001b[0;36m<module>\u001b[0;34m()\u001b[0m\n\u001b[1;32m      1\u001b[0m \u001b[0mget_ipython\u001b[0m\u001b[0;34m(\u001b[0m\u001b[0;34m)\u001b[0m\u001b[0;34m.\u001b[0m\u001b[0mmagic\u001b[0m\u001b[0;34m(\u001b[0m\u001b[0;34mu'matplotlib inline'\u001b[0m\u001b[0;34m)\u001b[0m\u001b[0;34m\u001b[0m\u001b[0m\n\u001b[0;32m----> 2\u001b[0;31m \u001b[0mplot_history\u001b[0m\u001b[0;34m(\u001b[0m\u001b[0mhistory\u001b[0m\u001b[0;34m)\u001b[0m\u001b[0;34m\u001b[0m\u001b[0m\n\u001b[0m",
      "\u001b[0;31mNameError\u001b[0m: name 'history' is not defined"
     ]
    }
   ],
   "source": [
    "%matplotlib inline\n",
    "plot_history(history)"
   ]
  },
  {
   "cell_type": "markdown",
   "metadata": {},
   "source": [
    "Test set loss tends to be below the training set loss, what can suggest that more data could actually help improve the model. For the current data it seems that the model stabilizes after $\\sim 300$ epoches."
   ]
  },
  {
   "cell_type": "code",
   "execution_count": 6,
   "metadata": {
    "collapsed": false
   },
   "outputs": [
    {
     "name": "stdout",
     "output_type": "stream",
     "text": [
      "3538/3538 [==============================] - 4s     \b\b\b\b\b\b\b\b\b\b\b\b\b\b\b\b\b\b\b\b\b\b\b\b\b\b\b\b\b\b\b\b\b\b\b\b\b\b\b\b\b\b\b\b\b\b\b\b\b\b\b\b\b\b\b\b\b\b\b\b\b\b\b\b\b\b\b\b\b\b\b\b\b\b\b\b\b\b\b\b\b\b\b\b\b\b\b\b\b\b\b\b\b\b\b\b\b\b\b\b\b\b\b\b\b\b\b\b\b\b\b\b\b\b\b\b\b\b\b\b\b\b\b\b\b\b\b\b\b\b\b\b\b\b\b\b\b\b\b\b\b\b\b\b\b\b\b\b\b\b\b\b\b\b\b\b\b\b\b\b\b\b\b\b\b\b\b\b\b\b\b\b\b\b\b\b\b\b\b\b\b\b\b\b\b\b\b\b\b\b\b\b\b\b\b\b\b\b\b\b\b\b\b\b\b\b\b\b\b\b\b\b\b\b\b\b\b\b\b\b\b\b\b\b\b\b\b\b\b\b\b\b\b\b\b\b\b\b\b\b\b\b\b\b\b\b\b\b\b\b\b\b\b\b\b\b\b\b\b\b\b\b\b\b\b\b\b\b\b\b\b\b\b\b\b\b\b\b\b\b\b\b\b\b\b\b\b\b\b\b\b\b\b\b\b\b\b\b\b\b\b\b\b\b\b\b\b\b\b\b\b\b\b\b\b\b\b\b\b\b\b\b\b\b\b\b\b\b\b\b\b\b\b\b\b\b\b\b\b\b\b\b\b\b\b\b\b\b\b\b\b\b\b\b\b\b\b\b\b\b\b\b\b\b\b\b\b\b\b\b\b\b\b\b\b\b\b\b\b\b\b\b\b\b\b\b\b\b\b\b\b\b\b\b\b\b\b\b\b\b\b\b\b\b\b\b\b\b\b\b\b\b\b\b\b\b\b\b\b\b\b\b\b\b\b\b\b\b\b\b\b\b\b\b\b\b\b\b\b\b\b\b\b\b\b\b\b\b\b\b\b\b\b\b\b\b\b\b\b\b\b\b\b\b\b\b\b\b\b\b\b\b\b\b\b\b\b\b\b\b\b\b\b\b\b\b\b\b\b\b\b\b\b\b\b\b\b\b\b\b\b\b\b\b\b\b\b\b\b\b\b\b\b\b\b\b\b\b\b\b\b\b\b\b\b\b\b\b\b\b\b\b\b\b\b\b\b\b\b\b\b\b\b\b\b\b\b\b\b\b\b\b\b\b\b\b\b\b\b\b\b\b\b\b\b\b\b\b\b\b\b\b\b\b\b\b\b\b\b\b\b\b\b\b\b\b\b\b\b\b\b\b\b\b\b\b\b\b\b\b\b\b\b\b\b\b\b\b\b\b\b\b\b\b\b\b\b\b\b\b\b\b\b\b\b\b\b\b\b\b\b\b\b\b\b\b\b\b\b\b\b\b\b\b\b\b\b\b\b\b\b\b\b\b\b\b\b\b\b\b\b\b\b\b\b\b\b\b\b\b\b\b\b\b\b\b\b\b\b\b\b\b\b\b\b\b\b\b\b\b\b\b\b\b\b\b\b\b\b\b\b\b\b\b\b\b\b\b\b\b\b\b\b\b\b\b\b\b\b\b\b\b\b\b\b\b\b\b\b\b\b\b\b\b\b\b\b\b\b\b\b\b\b\b\b\b\b\b\b\b\b\b\b\b\b\b\b\b\b\b\b\b\b\b\b\b\b\b\b\b\b\b\b\b\b\b\b\b\b\b\b\b\b\b\b\b\b\b\b\b\b\b\b\b\b\b\b\b\b\b\b\b\b\b\b\b\b\b\b\b\b\b\b\b\b\b\b\b\b\b\b\b\b\b\b\b\b\b\b\b\b\b\b\b\b\b\b\b\b\b\b\b\b\b\b\b\b\b\b\b\b\b\b\b\b\b\b\b\b\b\b\b\b\b\b\b\b\b\b\b\b\b\b\b\b\b\b\b\b\b\b\b\b\b\b\b\b\b\b\b\b\b\b\b\b\b\b\b\b\b\b\b\b\b\b\b\b\b\b\b\b\b\b\b\b\b\b\b\b\b\b\b\b\b\b\b\b\b\b\b\b\b\b\b\b\b\b\b\b\b\b\b\b\b\b\b\b\b\b\b\b\b\b\b\b\b\b\b\b\b\b\b\b\b\b\b\b\b\b\b\b\b\b\b\b\b\b\b\b\b\b\b\b\b\b\b\b\b\b\b\b\b\b\b\b\b\b\b\b\b\b\b\b\b\b\b\b\b\b\b\b\b\b\b\b\b\b\b\b\b\b\b\b\b\b\b\b\b\b\b\b\b\b\b\b\b\b\b\b\b\b\b\b\b\b\b\b\b\b\b\b\b\b\b\b\b\b\b\b\b\b\b\b\b\b\b\b\b\b\b\b\b\b\b\b\b\b\b\b\b\b\b\b\b\b\b\b\b\b\b\b\b\b\b\b\b\b\b\b\b\b\b\b\b\b\b\b\b\b\b\b\b\b\b\b\b\b\b\b\b\b\b\b\b\b\b\b\b\b\b\b\b\b\b\b\b\b\b\b\b\b\b\b\b\b\b\b\b\b\b\b\b\b\b\b\b\b\b\b\b\b\b\b\b\b\b\b\b\b\b\b\b\b\b\b\b\b\b\b\b\b\b\b\b\b\b\b\b\b\b\b\b\b\b\b\b\b\b\b\b\b\b\b\b\b\b\b\b\b\b\b\b\b\b\b\b\b\b\b\b\b\b\b\b\b\b\b\b\b\b\b\b\b\b\b\b\b\b\b\b\b\b\b\b\b\b\b\b\b\b\b\b\b\b\b\b\b\b\b\b\b\b\b\b\b\b\b\b\b\b\b\b\b\b\b\b\b\b\b\b\b\b\b\b\b\b\b\b\b\b\b\b\b\b\b\b\b\b\b\b\b\b\b\b\b\b\b\b\b\b\b\b\b\b\b\b\b\b\b\b\b\b\b\b\b\b\b\b\b\b\b\b\b\b\b\b\b\b\b\b\b\b\b\b\b\b\b\b\b\b\b\b\b\b\b\b\b\b\b\b\b\b\b\b\b\b\b\b\b\b\b\b\b\b\b\b\b\b\b\b\b\b\b\b\b\b\b\b\b\b\b\b\b\b\b\b\b\b\b\b\b\b\b\b\b\b\b\b\b\b\b\b\b\b\b\b\b\b\b\b\b\b\b\b\b\b\b\b\b\b\b\b\b\b\b\b\b\b\b\b\b\b\b\b\b\b\b\b\b\b\b\b\b\b\b\b\b\b\b\b\b\b\b\b\b\b\b\b\b\b\b\b\b\b\b\b\b\b\b\b\b\b\b\b\b\b\b\b\b\b\b\b\b\b\b\b\b\b\b\b\b\b\b\b\b\b\b\b\b\b\b\b\b\b\b\b\b\b\b\b\b\b\b\b\b\b\b\b\b\b\b\b\b\b\b\b\b\b\b\b\b\b\b\b\b\b\b\b\b\b\b\b\b\b\b\b\b\b\b\b\b\b\b\b\b\b\b\b\b\b\b\b\b\b\b\b\b\b\b\b\b\b\b\b\b\b\b\b\b\b\b\b\b\b\b\b\b\b\b\b\b\b\b\b\b\b\b\b\b\b\b\b\b\b\b\b\b\b\b\b\b\b\b\b\b\b\b\b\b\b\b\b\b\b\b\b\b\b\b\b\b\b\b\b\b\b\b\b\b\b\b\b\b\b\b\b\b\b\b\b\b\b\b\b\b\b\b\b\b\b\b\b\b\b\b\b\b\b\b\b\b\b\b\b\b\b\b\b\b\b\b\b\b\b\b\b\b\b\b\b\b\b\b\b\b\b\b\b\b\b\b\b\b\b\b\b\b\b\b\b\b\b\b\b\b\b\b\b\b\b\b\b\b\b\b\b\b\b\b\b\b\b\b\b\b\b\b\b\b\b\b\b\b\b\b\b\b\b\b\b\b\b\b\b\b\b\b\b\b\b\b\b\b\b\b\b\b\b\b\b\b\b\b\b\b\b\b\b\b\b\b\b\b\b\b\b\b\b\b\b\b\b\b\b\b\b\b\b\b\b\b\b\b\b\b\b\b\b\b\b\b\b\b\b\b\b\b\b\b\b\b\b\b\b\b\b\b\b\b\b\b\b\b\b\b\b\b\b\b\b\b\b\b\b\b\b\b\b\b\b\b\b\b\b\b\b\b\b\b\b\b\b\b\b\b\b\b\b\b\b\b\b\b\b\b\b\b\b\b\b\b\b\b\b\b\b\b\b\b\b\b\b\b\b\b\b\b\b\b\b\b\b\b\b\b\b\b\b\b\b\b\b\b\b\b\b\b\b\b\b\b\b\b\b\b\b\b\b\b\b\b\b\b\b\b\b\b\b\b\b\b\b\b\b\b\b\b\b\b\b\b\b\b\b\b\b\b\b\b\b\b\b\b\b\b\b\b\b\b\b\b\b\b\b\b\b\b\b\b\b\b\b\b\b\b\b\b\b\b\b\b\b\b\b\b\b\b\b\b\b\b\b\b\b\b\b\b\b\b\b\b\b\b\b\b\b\b\b\b\b\b\b\b\b\b\b\b\b\b\b\b\b\b\b\b\b\b\b\b\b\b\b\b\b\b\b\b\b\b\b\b\b\b\b\b\b\b\b\b\b\b\b\b\b\b\b\b\b\b\b\b\b\b\b\b\b\b\b\b\b\b\b\b\b\b\b\b\b\b\b\b\b\b\b\b\b\b\b\b\b\b\b\b\b\b\b\b\b\b\b\b\b\b\b\b\b\b\b\b\b\b\b\b\b\b\b\b\b\b\b\b\b\b\b\b\b\b\b\b\b\b\b\b\b\b\b\b\b\b\b\b\b\b\b\b\b\b\b\b\b\b\b\b\b\b\b\b\b\b\b\b\b\b\b\b\b\b\b\b\b\b\b\b\b\b\b\b\b\b\b\b\b\b\b\b\b\b\b\b\b\b\b\b\b\b\b\b\b\b\b\b\b\b\b\b\b\b\b\b\b\b\b\b\b\b\b\b\b\b\b\b\b\b\b\b\b\b\b\b\b\b\b\b\b\b\b\b\b\b\b\b\b\b\b\b\b\b\b\b\b\b\b\b\b\b\b\b\b\b\b\b\b\b\b\b\b\b\b\b\b\b\b\b\b\b\b\b\b\b\b\b\b\b\b\b\b\b\b\b\b\b\b\b\b\b\b\b\b\b\b\b\b\b\b\b\b\b\b\b\b\b\b\b\b\b\b\b\b\b\b\b\b\b\b\b\b\b\b\b\b\b\b\b\b\b\b\b\b\b\b\b\b\b\b\b\b\b\b\b\b\b\b\b\b\b\b\b\b\b\b\b\b\b\b\b\b\b\b\b\b\b\b\b\b\b\b\b\b\b\b\b\b\b\b\b\b\b\b\b\b\b\b\b\b\b\b\b\b\b\b\b\b\b\b\b\b\b\b\b\b\b\b\b\b\b\b\b\b\b\b\b\b\b\b\b\b\b\b\b\b\b\b\b\b\b\b\b\b\b\b\b\b\b\b\b\b\b\b\b\b\b\b\b\b\b\b\b\b\b\b\b\b\b\b\b\b\b\b\b\b\b\b\b\b\b\b\b\b\b\b\b\b\b\b\b\b\b\b\b\b\b\b\b\b\b\b\b\b\b\b\b\b\b\b\b\b\b\b\b\b\b\b\b\b\b\b\b\b\b\b\b\b\b\b\b\b\b\b\b\b\b\b\b\b\b\b\b\b\b\b\b\b\b\b\b\b\b\b\b\b\b\b\b\b\b\b\b\b\b\b\b\b\b\b\b\b\b\b\b\b\b\b\b\b\b\b\b\b\b\b\b\b\b\b\b\b\b\b\b\b\b\b\b\b\b\b\b\b\b\b\b\b\b\b\b\b\b\b\b\b\b\b\b\b\b\b\b\b\b\b\b\b\b\b\b\b\b\b\b\b\b\b\b\b\b\b\b\b\b\b\b\b\b\b\b\b\b\b\b\b\b\b\b\b\b\b\b\b\b\b\b\b\b\b\b\b\b\b\b\b\b\b\b\b\b\b\b\b\b\b\b\b\b\b\b\b\b\b\b\b\b\b\b\b\b\b\b\b\b\b\b\b\b\b\b\b\b\b\b\b\b\b\b\b\b\b\b\b\b\b\b\b\b\b\b\b\b\b\b\b\b\b\b\b\b\b\b\b\b\b\b\b\b\b\b\b\b\b\b\b\b\b\b\b\b\b\b\b\b\b\b\b\b\b\b\b\b\b\b\b\b\b\b\b\b\b\b\b\b\b\b\b\b\b\b\b\b\b\b\b\b\b\b\b\b\b\b\b\b\b\b\b\b\b\b\b\b\b\b\b\b\b\b\b\b\b\b\b\b\b\b\b\b\b\b\b\b\b\b\b\b\b\b\b\b\b\b\b\b\b\b\b\b\b\b\b\b\b\b\b\b\b\b\b\b\b\b\b\b\b\b\b\b\b\b\b\b\b\b\b\b\b\b\b\b\b\b\b\b\b\b\b\b\b\b\b\b\b\b\b\b\b\b\b\b\b\b\b\b\b\b\b\b\b\b\b\b\b\b\b\b\b\b\b\b\b\b\b\b\b\b\b\b\b\b\b\b\b\b\b\b\b\b\b\b\b\b\b\b\b\b\b\b\b\b\b\b\b\b\b\b\b\b\b\b\b\b\b\b\b\b\b\b\b\b\b\b\b\b\b\b\b\b\b\b\b\b\b\b\b\b\b\b\b\b\b\b\b\b\b\b\b\b\b\b\b\b\b\b\b\b\b\b\b\b\b\b\b\b\b\b\b\b\b\b\b\b\b\b\b\b\b\b\b\b\b\b\b\b\b\b\b\b\b\b\b\b\b\b\b\b\b\b\b\b\b\b\b\b\b\b\b\b\b\b\b\b\b\b\b\b\b\b\b\b\b\b\b\b\b\b\b\b\b\b\b\b\b\b\b\b\b\b\b\b\b\b\b\b\b\b\b\b\b\b\b\b\b\b\b\b\b\b\b\b\b\b\b\b\b\b\b\b\b\b\b\b\b\b\b\b\b\b\b\b\b\b\b\b\b\b\b\b\b\b\b\b\b\b\b\b\b\b\b\b\b\b\b\b\b\b\b\b\b\b\b\b\b\b\b\b\b\b\b\b\b\b\b\b\b\b\b\b\b\b\b\b\b\b\b\b\b\b\b\b\b\b\b\b\b\b\b\b\b\b\b\b\b\b\b\b\b\b\b\b\b\b\b\b\b\b\b\b\b\b\b\b\b\b\b\b\b\b\b\b\b\b\b\b\b\b\b\b\b\b\b\b\b\b\b\b\b\b\b\b\b\b\b\b\b\b\b\b\b\b\b\b\b\b\b\b\b\b\b\b\b\b\b\b\b\b\b\b\b\b\b\b\b\b\b\b\b\b\b\b\b\b\b\b\b\b\b\b\b\b\b\b\b\b\b\b\b\b\b\b\b\b\b\b\b\b\b\b\b\b\b\b\b\b\b\b\b\b\b\b\b\b\b\b\b\b\b\b\b\b\b\b\b\b\b\b\b\b\b\b\b\b\b\b\b\b\b\b\b\b\b\b\b\b\b\b\b\b\b\b\b\b\b\b\b\b\b\b\b\b\b\b\b\b\b\b\b\b\b\b\b\b\b\b\b\b\b\b\b\b\b\b\b\b\b\b\b\b\b\b\b\b\b\b\b\b\b\b\b\b\b\b\b\b\b\b\b\b\b\b\b\b\b\b\b\b\b\b\b\b\b\b\b\b\b\b\b\b\b\b\b\b\b\b\b\b\b\b\b\b\b\b\b\b\b\b\b\b\b\b\b\b\b\b\b\b\b\b\b\b\b\b\b\b\b\b\b\b\b\b\b\b\b\b\b\b\b\b\b\b\b\b\b\b\b\b\b\b\b\b\b\b\b\b\b\b\b\b\b\b\b\b\b\b\b\b\b\b\b\b\b\b\b\b\b\b\b\b\b\b\b\b\b\b\b\b\b\b\b\b\b\b\b\b\b\b\b\b\b\b\b\b\b\b\b\b\b\b\b\b\b\b\b\b\b\b\b\b\b\b\b\b\b\b\b\b\b\b\b\b\b\b\b\b\b\b\b\b\b\b\b\b\b\b\b\b\b\b\b\b\b\b\b\b\b\b\b\b\b\b\b\b\b\b\b\b\b\b\b\b\b\b\b\b\b\b\b\b\b\b\b\b\b\b\b\b\b\b\b\b\b\b\b\b\b\b\b\b\b\b\b\b\b\b\b\b\b\b\b\b\b\b\b\b\b\b\b\b\b\b\b\b\b\b\b\b\b\b\b\b\b\b\b\b\b\b\b\b\b\b\b\b\b\b\b\b\b\b\b\b\b\b\b\b\b\b\b\b\b\b\b\b\b\b\b\b\b\b\b\b\b\b\b\b\b\b\b\b\b\b\b\b\b\b\b\b\b\b\b\b\b\b\b\b\b\b\b\b\b\b\b\b\b\b\b\b\b\b\b\b\b\b\b\b\b\b\b\b\b\b\b\b\b\b\b\b\b\b\b\b\b\b\b\b\b\b\b\b\b\b\b\b\b\b\b\b\b\b\b\b\b\b\b\b\b\b\b\b\b\b\b\b\b\b\b\b\b\b\b\b\b\b\b\b\b\b\b\b\b\b\b\b\b\b\b\b\b\b\b\b\b\b\b\b\b\b\b\b\b\b\b\b\b\b\b\b\b\b\b\b\b\b\b\b\b\b\b\b\b\b\b\b\b\b\b\b\b\b\b\b\b\b\b\b\b\b\b\b\b\b\b\b\b\b\b\b\b\b\b\b\b\b\b\b\b\b\b\b\b\b\b\b\b\b\b\b\b\b\b\b\b\b\b\b\b\b\b\b\b\b\b\b\b\b\b\b\b\b\b\b\b\b\b\b\b\b\b\b\b\b\b\b\b\b\b\b\b\b\b\b\b\b\b\b\b\b\b\b\b\b\b\b\b\b\b\b\b\b\b\b\b\b\b\b\b\b\b\b\b\b\b\b\b\b\b\b\b\b\b\b\b\b\b\b\b\b\b\b\b\b\b\b\b\b\b\b\b\b\b\b\b\b\b\b\b\b\b\b\b\b\b\b\b\b\b\b\b\b\b\b\b\b\b\b\b\b\b\b\b\b\b\b\b\b\b\b\b\b\b\b\b\b\b\b\b\b\b\b\b\b\b\b\b\b\b\b\b\b\b\b\b\b\b\b\b\b\b\b\b\b\b\b\b\b\b\b\b\b\b\b\b\b\b\b\b\b\b\b\b\b\b\b\b\b\b\b\b\b\b\b\b\b\b\b\b\b\b\b\b\b\b\b\b\b\b\b\b\b\b\b\b\b\b\b\b\b\b\b\b\b\b\b\b\b\b\b\b\b\b\b\b\b\b\b\b\b\b\b\b\b\b\b\b\b\b\b\b\b\b\b\b\b\b\b\b\b\b\b\b\b\b\b\b\b\b\b\b\b\b\b\b\b\b\b\b\b\b\b\b\b\b\b\b\b\b\b\b\b\b\b\b\b\b\b\b\b\b\b\b\b\b\b\b\b\b\b\b\b\b\b\b\b\b\b\b\b\b\b\b\b\b\b\b\b\b\b\b\b\b\b\b\b\b\b\b\b\b\b\b\b\b\b\b\b\b\b\b\b\b\b\b\b\b\b\b\b\b\b\b\b\b\b\b\b\b\b\b\b\b\b\b\b\b\b\b\b\b\b\b\b\b\b\b\b\b\b\b\b\b\b\b\b\b\b\b\b\b\b\b\b\b\b\b\b\b\b\b\b\b\b\b\b\b\b\b\b\b\b\b\b\b\b\b\b\b\b\b\b\b\b\b\b\b\b\b\b\b\b\b\b\b\b\b\b\b\b\b\b\b\b\b\b\b\b\b\b\b\b\b\b\b\b\b\b\b\b\b\b\b\b\b\b\b\b\b\b\b\b\b\b\b\b\b\b\b\b\b\b\b\b\b\b\b\b\b\b\b\b\b\b\b\b\b\b\b\b\b\b\b\b\b\b\b\b\b\b\b\b\b\b\b\b\b\b\b\b\b\b\b\b\b\b\b\b\b\b\b\b\b\b\b\b\b\b\b\b\b\b\b\b\b\b\b\b\b\b\b\b\b\b\b\b\b\b\b\b\b\b\b\b\b\b\b\b\b\b\b\b\b\b\b\b\b\b\b\b\b\b\b\b\b\b\b\b\b\b\b\b\b\b\b\b\b\b\b\b\b\b\b\b\b\b\b\b\b\b\b\b\b\b\b\b\b\b\b\b\b\b\b\b\b\b\b\b\b\b\b\b\b\b\b\b\b\b\b\b\b\b\b\b\b\b\b\b\b\b\b\b\b\b\b\b\b\b\b\b\b\b\b\b\b\b\b\b\b\b\b\b\b\b\b\b\b\b\b\b\b\b\b\b\b\b\b\b\b\b\b\b\b\b\b\b\b\b\b\b\b\b\b\b\b\b\b\b\b\b\b\b\b\b\b\b\b\b\b\b\b\b\b\b\b\b\b\b\b\b\b\b\b\b\b\b\b\b\b\b\b\b\b\b\b\b\b\b\b\b\b\b\b\b\b\b\b\b\b\b\b\b\b\b\b\b\b\b\b\b\b\b\b\b\b\b\b\b\b\b\b\b\b\b\b\b\b\b\b\b\b\b\b\b\b\b\b\b\b\b\b\b\b\b\b\b\b\b\b\b\b\b\b\b\b\b\b\b\b\b\b\b\b\b\b\b\b\b\b\b\b\b\b\b\b\b\b\b\b\b\b\b\b\b\b\b\b\b\b\b\b\b\b\b\b\b\b\b\b\b\b\b\b\b\b\b\b\b\b\b\b\b\b\b\b\b\b\b\b\b\b\b\b\b\b\b\b\b\b\b\b\b\b\b\b\b\b\b\b\b\b\b\b\b\b\b\b\b\b\b\b\b\b\b\b\b\b\b\b\b\b\b\b\b\b\b\b\b\b\b\b\b\b\b\b\b\b\b\b\b\b\b\b\b\b\b\b\b\b\b\b\b\b\b\b\b\b\b\b\b\b\b\b\b\b\b\b\b\b\b\b\b\b\b\b\b\b\b\b\b\b\b\b\b\b\b\b\b\b\b\b\b\b\b\b\b\b\b\b\b\b\b\b\b\b\b\b\b\b\b\b\b\b\b\b\b\b\b\b\b\b\b\b\b\b\b\b\b\b\b\b\b\b\b\b\b\b\b\b\b\b\b\b\b\b\b\b\b\b\b\b\b\b\b\b\b\b\b\b\b\b\b\b\b\b\b\b\b\b\b\b\b\b\b\b\b\b\b\b\b\b\b\b\b\b\b\b\b\b\b\b\b\b\b\b\b\b\b\b\b\b\b\b\b\b\b\b\b\b\b\b\b\b\b\b\b\b\b\b\b\b\b\b\b\b\b\b\b\b\b\b\b\b\b\b\b\b\b\b\b\b\b\b\b\b\b\b\b\b\b\b\b\b\b\b\b\b\b\b\b\b\b\b\b\b\b\b\b\b\b\b\b\b\b\b\b\b\b\b\b\b\b\b\b\b\b\b\b\b\b\b\b\b\b\b\b\b\b\b\b\b\b\b\b\b\b\b\b\b\b\b\b\b\b\b\b\b\b\b\b\b\b\b\b\b\b\b\b\b\b\b\b\b\b\b\b\b\b\b\b\b\b\b\b\b\b\b\b\b\b\b\b\b\b\b\b\b\b\b\b\b\b\b\b\b\b\b\b\b\b\b\b\b\b\b\b\b\b\b\b\b\b\b\b\b\b\b\b\b\b\b\b\b\b\b\b\b\b\b\b\b\b\b\b\b\b\b\b\b\b\b\b\b\b\b\b\b\b\b\b\b\b\b\b\b\b\b\b\b\b\b\b\b\b\b\b\b\b\b\b\b\b\b\b\b\b\b\b\b\b\b\b\b\b\b\b\b\b\b\b\b\b\b\b\b\b\b\b\b\b\b\b\b\b\b\b\b\b\b\b\b\b\b\b\b\b\b\b\b\b\b\b\b\b\b\b\b\b\b\b\b\b\b\b\b\b\b\b\b\b\b\b\b\b\b\b\b\b\b\b\b\b\b\b\b\b\b\b\b\b\b\b\b\b\b\b\b\b\b\b\b\b\b\b\b\b\b\b\b\b\b\b\b\b\b\b\b\b\b\b\b\b\b\b\b\b\b\b\b\b\b\b\b\b\b\b\b\b\b\b\b\b\b\b\b\b\b\b\b\b\b\b\b\b\b\b\b\b\b\b\b\b\b\b\b\b\b\b\b\b\b\b\b\b\b\b\b\b\b\b\b\b\b\b\b\b\b\b\b\b\b\b\b\b\b\b\b\b\b\b\b\b\b\b\b\b\b\b\b\b\b\b\b\b\b\b\b\b\b\b\b\b\b\b\b\b\b\b\b\b\b\b\b\b\b\b\b\b\b\b\b\b\b\b\b\b\b\b\b\b\b\b\b\b\b\b\b\b\b\b\b\b\b\b\b\b\b\b\b\b\b\b\b\b\b\b\b\b\b\b\b\b\b\b\b\b\b\b\b\b\b\b\b\b\b\b\b\b\b\b\b\b\b\b\b\b\b\b\b\b\b\b\b\b\b\b\b\b\b\b\b\b\b\b\b\b\b\b\b\b\b\b\b\b\b\b\b\b\b\b\b\b\b\b\b\b\b\b\b\b\b\b\b\b\b\b\b\b\b\b\b\b\b\b\b\b\b\b\b\b\b\b\b\b\b\b\b\b\b\b\b\b\b\b\b\b\b\b\b\b\b\b\b\b\b\b\b\b\b\b\b\b\b\b\b\b\b\b\b\b\b\b\b\b\b\b\b\b\b\n",
      "Test set loss: 0.0027\n"
     ]
    }
   ],
   "source": [
    "# Test on the test set\n",
    "scores = model.evaluate(inputs[ntrain:n,:,cols], outputs[ntrain:n,:,:])\n",
    "print(\"Test set loss: %.4f\" % (scores[0]))"
   ]
  },
  {
   "cell_type": "markdown",
   "metadata": {},
   "source": [
    "We notice that the loss on the test set is similar to the validation error as expected."
   ]
  },
  {
   "cell_type": "markdown",
   "metadata": {},
   "source": [
    "### Interpretation"
   ]
  },
  {
   "cell_type": "markdown",
   "metadata": {},
   "source": [
    "The model outputs values which can be interpreted as likelihood of an event. Now we compute the loss on the hold-out set (not used in choosing parameters of the network)."
   ]
  },
  {
   "cell_type": "markdown",
   "metadata": {},
   "source": [
    "Given the likelihoods we can approximate positions of peaks by finding local maxima [TODO: describe the current algorithm here]. Below are some examples on the test set (still with fixed-length sequences). There is one plot per trail. Blue curve is the output of the neural network, grean peaks are the events, blue vertical lines are estimates of the events."
   ]
  },
  {
   "cell_type": "code",
   "execution_count": 8,
   "metadata": {
    "collapsed": false
   },
   "outputs": [
    {
     "ename": "NameError",
     "evalue": "global name 'mean' is not defined",
     "output_type": "error",
     "traceback": [
      "\u001b[0;31m---------------------------------------------------------------------------\u001b[0m",
      "\u001b[0;31mNameError\u001b[0m                                 Traceback (most recent call last)",
      "\u001b[0;32m<ipython-input-8-bbb730401dfe>\u001b[0m in \u001b[0;36m<module>\u001b[0;34m()\u001b[0m\n\u001b[1;32m      6\u001b[0m     \u001b[0mlikelihood\u001b[0m \u001b[0;34m=\u001b[0m \u001b[0mres\u001b[0m\u001b[0;34m[\u001b[0m\u001b[0mntrial\u001b[0m\u001b[0;34m,\u001b[0m\u001b[0;34m:\u001b[0m\u001b[0;34m,\u001b[0m\u001b[0;34m:\u001b[0m\u001b[0;34m]\u001b[0m\u001b[0;34m\u001b[0m\u001b[0m\n\u001b[1;32m      7\u001b[0m     \u001b[0mtrue\u001b[0m \u001b[0;34m=\u001b[0m \u001b[0moutputs\u001b[0m\u001b[0;34m[\u001b[0m\u001b[0mntrain\u001b[0m \u001b[0;34m+\u001b[0m \u001b[0mntrial\u001b[0m\u001b[0;34m,\u001b[0m\u001b[0;34m:\u001b[0m\u001b[0;34m,\u001b[0m\u001b[0;34m:\u001b[0m\u001b[0;34m]\u001b[0m\u001b[0;34m\u001b[0m\u001b[0m\n\u001b[0;32m----> 8\u001b[0;31m     \u001b[0md\u001b[0m \u001b[0;34m=\u001b[0m \u001b[0meval_prediction\u001b[0m\u001b[0;34m(\u001b[0m\u001b[0mlikelihood\u001b[0m\u001b[0;34m,\u001b[0m \u001b[0mtrue\u001b[0m\u001b[0;34m,\u001b[0m \u001b[0mids\u001b[0m\u001b[0;34m[\u001b[0m\u001b[0mntrain\u001b[0m \u001b[0;34m+\u001b[0m \u001b[0mntrial\u001b[0m\u001b[0;34m]\u001b[0m\u001b[0;34m,\u001b[0m \u001b[0mplot\u001b[0m \u001b[0;34m=\u001b[0m \u001b[0mFalse\u001b[0m\u001b[0;34m,\u001b[0m \u001b[0mshift\u001b[0m \u001b[0;34m=\u001b[0m \u001b[0;36m0\u001b[0m\u001b[0;34m)\u001b[0m\u001b[0;34m\u001b[0m\u001b[0m\n\u001b[0m\u001b[1;32m      9\u001b[0m     \u001b[0msdist\u001b[0m\u001b[0;34m.\u001b[0m\u001b[0mextend\u001b[0m\u001b[0;34m(\u001b[0m\u001b[0md\u001b[0m\u001b[0;34m)\u001b[0m\u001b[0;34m\u001b[0m\u001b[0m\n\u001b[1;32m     10\u001b[0m     \u001b[0;32mif\u001b[0m \u001b[0;34m(\u001b[0m\u001b[0md\u001b[0m\u001b[0;34m[\u001b[0m\u001b[0;36m0\u001b[0m\u001b[0;34m]\u001b[0m \u001b[0;34m>\u001b[0m \u001b[0;36m10\u001b[0m\u001b[0;34m)\u001b[0m\u001b[0;34m:\u001b[0m\u001b[0;34m\u001b[0m\u001b[0m\n",
      "\u001b[0;32m/home/lukasz/workspace/event-detector/utils.pyc\u001b[0m in \u001b[0;36meval_prediction\u001b[0;34m(likelihood, true, patient, plot, shift)\u001b[0m\n\u001b[1;32m    184\u001b[0m         \u001b[0;32mif\u001b[0m \u001b[0mplot\u001b[0m\u001b[0;34m:\u001b[0m\u001b[0;34m\u001b[0m\u001b[0m\n\u001b[1;32m    185\u001b[0m             \u001b[0mplt\u001b[0m\u001b[0;34m.\u001b[0m\u001b[0maxvline\u001b[0m\u001b[0;34m(\u001b[0m\u001b[0mx\u001b[0m\u001b[0;34m=\u001b[0m\u001b[0mk\u001b[0m\u001b[0;34m)\u001b[0m\u001b[0;34m\u001b[0m\u001b[0m\n\u001b[0;32m--> 186\u001b[0;31m     \u001b[0msdist\u001b[0m\u001b[0;34m.\u001b[0m\u001b[0mappend\u001b[0m\u001b[0;34m(\u001b[0m\u001b[0mpeak_cmp\u001b[0m\u001b[0;34m(\u001b[0m\u001b[0mnp\u001b[0m\u001b[0;34m.\u001b[0m\u001b[0mwhere\u001b[0m\u001b[0;34m(\u001b[0m\u001b[0mtrue\u001b[0m\u001b[0;34m[\u001b[0m\u001b[0;34m:\u001b[0m\u001b[0;34m,\u001b[0m\u001b[0;36m0\u001b[0m\u001b[0;34m]\u001b[0m \u001b[0;34m>\u001b[0m \u001b[0;36m0.5\u001b[0m\u001b[0;34m)\u001b[0m\u001b[0;34m[\u001b[0m\u001b[0;36m0\u001b[0m\u001b[0;34m]\u001b[0m\u001b[0;34m,\u001b[0m \u001b[0;34m[\u001b[0m\u001b[0mk\u001b[0m \u001b[0;34m+\u001b[0m \u001b[0mshift\u001b[0m \u001b[0;32mfor\u001b[0m \u001b[0mk\u001b[0m\u001b[0;34m,\u001b[0m\u001b[0mv\u001b[0m \u001b[0;32min\u001b[0m \u001b[0mpeakind\u001b[0m\u001b[0;34m[\u001b[0m\u001b[0;36m0\u001b[0m\u001b[0;34m]\u001b[0m\u001b[0;34m]\u001b[0m\u001b[0;34m)\u001b[0m\u001b[0;34m)\u001b[0m\u001b[0;34m\u001b[0m\u001b[0m\n\u001b[0m\u001b[1;32m    187\u001b[0m \u001b[0;34m\u001b[0m\u001b[0m\n\u001b[1;32m    188\u001b[0m \u001b[0;31m#    peakind = peakdet(likelihood[:,1],0.5)\u001b[0m\u001b[0;34m\u001b[0m\u001b[0;34m\u001b[0m\u001b[0m\n",
      "\u001b[0;32m/home/lukasz/workspace/event-detector/utils.pyc\u001b[0m in \u001b[0;36mpeak_cmp\u001b[0;34m(annotated, predicted)\u001b[0m\n\u001b[1;32m    175\u001b[0m             \u001b[0;32mcontinue\u001b[0m\u001b[0;34m\u001b[0m\u001b[0m\n\u001b[1;32m    176\u001b[0m         \u001b[0mdist\u001b[0m \u001b[0;34m=\u001b[0m \u001b[0mdist\u001b[0m \u001b[0;34m+\u001b[0m \u001b[0;34m[\u001b[0m\u001b[0mmin\u001b[0m\u001b[0;34m(\u001b[0m\u001b[0mnp\u001b[0m\u001b[0;34m.\u001b[0m\u001b[0mabs\u001b[0m\u001b[0;34m(\u001b[0m\u001b[0mpredicted\u001b[0m \u001b[0;34m-\u001b[0m \u001b[0ma\u001b[0m\u001b[0;34m)\u001b[0m\u001b[0;34m)\u001b[0m\u001b[0;34m]\u001b[0m\u001b[0;34m\u001b[0m\u001b[0m\n\u001b[0;32m--> 177\u001b[0;31m     \u001b[0;32mreturn\u001b[0m \u001b[0mmean\u001b[0m\u001b[0;34m(\u001b[0m\u001b[0mdist\u001b[0m\u001b[0;34m)\u001b[0m\u001b[0;34m\u001b[0m\u001b[0m\n\u001b[0m\u001b[1;32m    178\u001b[0m \u001b[0;34m\u001b[0m\u001b[0m\n\u001b[1;32m    179\u001b[0m \u001b[0;32mdef\u001b[0m \u001b[0meval_prediction\u001b[0m\u001b[0;34m(\u001b[0m\u001b[0mlikelihood\u001b[0m\u001b[0;34m,\u001b[0m \u001b[0mtrue\u001b[0m\u001b[0;34m,\u001b[0m \u001b[0mpatient\u001b[0m\u001b[0;34m,\u001b[0m \u001b[0mplot\u001b[0m \u001b[0;34m=\u001b[0m \u001b[0mTrue\u001b[0m\u001b[0;34m,\u001b[0m \u001b[0mshift\u001b[0m \u001b[0;34m=\u001b[0m \u001b[0;36m0\u001b[0m\u001b[0;34m)\u001b[0m\u001b[0;34m:\u001b[0m\u001b[0;34m\u001b[0m\u001b[0m\n",
      "\u001b[0;31mNameError\u001b[0m: global name 'mean' is not defined"
     ]
    }
   ],
   "source": [
    "%matplotlib inline   \n",
    "sdist = []\n",
    "res = model.predict(inputs[ntrain:n,:,cols])\n",
    "\n",
    "for ntrial in range(3000):\n",
    "    likelihood = res[ntrial,:,:]\n",
    "    true = outputs[ntrain + ntrial,:,:]\n",
    "    d = eval_prediction(likelihood, true, ids[ntrain + ntrial], plot = False, shift = 0)\n",
    "    sdist.extend(d)\n",
    "    if (d[0] > 10):\n",
    "        eval_prediction(likelihood, true, ids[ntrain + ntrial], plot = True, shift = 0)"
   ]
  },
  {
   "cell_type": "markdown",
   "metadata": {},
   "source": [
    "(Note that cases plotted above are only the 'problematic' ones, i.e. ~5% of all. Most of the predictions are excelent.)\n",
    "We draw distribution of the 'real-world' error, i.e. the average distance between the real peak and the closest predicted peak. For now we analyze only $\\verb|coverage|$ introduced before."
   ]
  },
  {
   "cell_type": "code",
   "execution_count": null,
   "metadata": {
    "collapsed": false,
    "scrolled": true
   },
   "outputs": [],
   "source": [
    "plot_stats(sdist)"
   ]
  },
  {
   "cell_type": "markdown",
   "metadata": {},
   "source": [
    "Now, we try prediction on variable length sequences. Note, that we have only few annotations per trial, while there should be more, in periodic manner. It seems it's caputred by LSTM. Note that these long sequences were not used for training - these are situations that the network has never seen before and its not optimized for these cases directly."
   ]
  },
  {
   "cell_type": "code",
   "execution_count": null,
   "metadata": {
    "collapsed": false
   },
   "outputs": [],
   "source": [
    "%matplotlib inline\n",
    "\n",
    "sdist = []\n",
    "files = os.listdir(fdir)\n",
    "for i,filename in enumerate(files):\n",
    "    R = np.loadtxt(\"%s/%s\" % (fdir, filename), delimiter=',')\n",
    "    X = R[:,cols]\n",
    "    true = R[:,input_dim:(input_dim + output_dim)]\n",
    "    likelihood = model.predict(X.reshape((1,-1,len(cols))))[0]\n",
    "\n",
    "    sdist.extend(eval_prediction(likelihood, true, filename))\n",
    "    \n",
    "    if i > 20:\n",
    "        break"
   ]
  },
  {
   "cell_type": "markdown",
   "metadata": {},
   "source": [
    "## Problematic cases"
   ]
  },
  {
   "cell_type": "markdown",
   "metadata": {},
   "source": [
    "Now we identify cases where algorithm didn't do well and we try to figure out what's wrong."
   ]
  },
  {
   "cell_type": "markdown",
   "metadata": {},
   "source": [
    "**'Big' problems**"
   ]
  },
  {
   "cell_type": "code",
   "execution_count": null,
   "metadata": {
    "collapsed": false
   },
   "outputs": [],
   "source": [
    "plot_kinematics(\"R11714_8.csv\", fdir=fdir, ids=ids, fromfile=True, input_dim = input_dim, output_dim = output_dim, model = model, cols = cols)"
   ]
  },
  {
   "cell_type": "markdown",
   "metadata": {},
   "source": [
    "**Off by 10-20 frames (not any more ;)**"
   ]
  },
  {
   "cell_type": "code",
   "execution_count": null,
   "metadata": {
    "collapsed": false
   },
   "outputs": [],
   "source": [
    "plot_kinematics(\"L9255_10.csv\", fdir=fdir, ids=ids, fromfile=True, input_dim = input_dim, output_dim = output_dim, model = model, cols = cols)\n",
    "plot_kinematics(\"R13353_14.csv\", fdir=fdir, ids=ids, fromfile=True, input_dim = input_dim, output_dim = output_dim, model = model, cols = cols)\n",
    "plot_kinematics(\"R12491_15.csv\", fdir=fdir, ids=ids, fromfile=True, input_dim = input_dim, output_dim = output_dim, model = model, cols = cols)\n",
    "plot_kinematics(\"L7920_19.csv\", fdir=fdir, ids=ids, fromfile=True, input_dim = input_dim, output_dim = output_dim, model = model, cols = cols)\n",
    "plot_kinematics(\"R9538_44.csv\", fdir=fdir, ids=ids, fromfile=True, input_dim = input_dim, output_dim = output_dim, model = model, cols = cols)\n",
    "plot_kinematics(\"L8641_11.csv\", fdir=fdir, ids=ids, fromfile=True, input_dim = input_dim, output_dim = output_dim, model = model, cols = cols)"
   ]
  },
  {
   "cell_type": "code",
   "execution_count": null,
   "metadata": {
    "collapsed": false
   },
   "outputs": [],
   "source": [
    "print(model)\n",
    "model.save(\"model-48-4.h5\")\n",
    "pickle.dump( history.history, open( \"history-48-4.p\", \"wb\" ) )"
   ]
  }
 ],
 "metadata": {
  "kernelspec": {
   "display_name": "Python 2",
   "language": "python",
   "name": "python2"
  },
  "language_info": {
   "codemirror_mode": {
    "name": "ipython",
    "version": 2
   },
   "file_extension": ".py",
   "mimetype": "text/x-python",
   "name": "python",
   "nbconvert_exporter": "python",
   "pygments_lexer": "ipython2",
   "version": "2.7.13"
  }
 },
 "nbformat": 4,
 "nbformat_minor": 0
}
