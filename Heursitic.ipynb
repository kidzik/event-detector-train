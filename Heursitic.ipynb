{
 "cells": [
  {
   "cell_type": "code",
   "execution_count": 2,
   "metadata": {
    "collapsed": false
   },
   "outputs": [
    {
     "name": "stdout",
     "output_type": "stream",
     "text": [
      "Populating the interactive namespace from numpy and matplotlib\n"
     ]
    },
    {
     "name": "stderr",
     "output_type": "stream",
     "text": [
      "Using TensorFlow backend.\n"
     ]
    }
   ],
   "source": [
    "%matplotlib inline\n",
    "%pylab inline\n",
    "from utils import *\n",
    "\n",
    "# Settings\n",
    "input_dim = 99 #89-2 #27*2\n",
    "output_dim = 1\n",
    "nseqlen = 128\n",
    "fdir = \"/media/lukasz/TOSHIBA EXT/csv-hee\"\n",
    "\n",
    "# Load data\n",
    "inputs, outputs, ids = load_data(fdir, input_dim, output_dim, nseqlen, nsamples = 10000)"
   ]
  },
  {
   "cell_type": "code",
   "execution_count": 8,
   "metadata": {
    "collapsed": false
   },
   "outputs": [
    {
     "name": "stdout",
     "output_type": "stream",
     "text": [
      "9000\n",
      "1\n"
     ]
    }
   ],
   "source": [
    "n = inputs.shape[0]\n",
    "ntrain = int(math.floor(n * 0.9))\n",
    "print(ntrain)\n",
    "\n",
    "peaks = [[0,1], [2,2], [2,0]]\n",
    "index, value = max(enumerate(peaks), key=lambda x: x[1][1])\n",
    "print(index)"
   ]
  },
  {
   "cell_type": "code",
   "execution_count": 4,
   "metadata": {
    "collapsed": false
   },
   "outputs": [],
   "source": [
    "from keras.models import load_model\n",
    "import keras\n",
    "from numpy import mean\n",
    "from utils import weighted_binary_crossentropy\n",
    "keras.objectives.weighted_binary_crossentropy = weighted_binary_crossentropy\n",
    "model = load_model(\"model-48-4.h5\")"
   ]
  },
  {
   "cell_type": "code",
   "execution_count": 83,
   "metadata": {
    "collapsed": false
   },
   "outputs": [
    {
     "name": "stdout",
     "output_type": "stream",
     "text": [
      "[[   0.         -174.19055176]\n",
      " [  55.         -313.72357178]\n",
      " [ 100.           59.65460205]]\n"
     ]
    },
    {
     "data": {
      "image/png": "[encoded data removed]",
      "text/plain": [
       "<matplotlib.figure.Figure at 0x7f3918c6d050>"
      ]
     },
     "metadata": {},
     "output_type": "display_data"
    }
   ],
   "source": [
    "subj = 269\n",
    "plt.plot(inputs[subj][:,42])\n",
    "\n",
    "print(peakdet(inputs[subj][:,42],0.5)[0])\n",
    "#plt.plot(outputs[subj][:,0])\n"
   ]
  },
  {
   "cell_type": "code",
   "execution_count": 30,
   "metadata": {
    "collapsed": false
   },
   "outputs": [
    {
     "name": "stdout",
     "output_type": "stream",
     "text": [
      "Error distribution:\n",
      "<= 1: 0.831847\n",
      "<= 3: 0.967551\n",
      "<= 5: 0.988069\n",
      "<= 10: 0.997547\n",
      "<= 60: 0.999888\n",
      "Mean distance: 0.946142\n"
     ]
    },
    {
     "data": {
      "image/png": "[encoded data removed]",
      "text/plain": [
       "<matplotlib.figure.Figure at 0x7fc034e66ad0>"
      ]
     },
     "metadata": {},
     "output_type": "display_data"
    }
   ],
   "source": [
    "#cols = range(15) + [30 + i for i in range(6)] + [54 + i for i in range(6)] + [12 + 81 + i for i in range(6)] \n",
    "cols = range(15) + [60 + i for i in range(12)] + [12 + 81 + i for i in range(6)]\n",
    "res = model.predict(inputs[0:ntrain,:,cols])\n",
    "sdist = []\n",
    "\n",
    "for ntrial in range(ntrain):\n",
    "    likelihood = res[ntrial,:,:]\n",
    "    true = outputs[ntrial,:,:]\n",
    "    d = eval_prediction(likelihood, true, ids[ntrial], plot = False, shift = 0)\n",
    "    sdist.extend(d)\n",
    "plot_stats(sdist)"
   ]
  },
  {
   "cell_type": "code",
   "execution_count": 39,
   "metadata": {
    "collapsed": false
   },
   "outputs": [
    {
     "name": "stdout",
     "output_type": "stream",
     "text": [
      "Error distribution:\n",
      "<= 1: 0.459212\n",
      "<= 3: 0.836848\n",
      "<= 5: 0.945536\n",
      "<= 10: 0.989758\n",
      "<= 60: 1.000000\n",
      "Mean distance: 2.136040\n",
      "0.0696666666667\n",
      "Error distribution:\n",
      "<= 1: 0.444862\n",
      "<= 3: 0.844765\n",
      "<= 5: 0.954193\n",
      "<= 10: 0.991154\n",
      "<= 60: 1.000000\n",
      "Mean distance: 2.103369\n",
      "0.0828888888889\n"
     ]
    },
    {
     "data": {
      "image/png": "[encoded data removed]",
      "text/plain": [
       "<matplotlib.figure.Figure at 0x7fc02ce2fcd0>"
      ]
     },
     "metadata": {},
     "output_type": "display_data"
    }
   ],
   "source": [
    "# 30\n",
    "# 46\n",
    "def coordinate_pred(inputs, nseqlen):\n",
    "    outputs = np.zeros((inputs.shape[0], inputs.shape[1], 1))\n",
    "\n",
    "    for i in range(inputs.shape[0]):\n",
    "        try:\n",
    "            peaks = peakdet(inputs[i][:,42],0.5)[0]\n",
    "            #print(peaks)\n",
    "            index, value = max(enumerate(peaks), key=lambda x: x[1][1])\n",
    "            \n",
    "            outputs[i,int(peaks[index][0]),0] = 1\n",
    "        except:\n",
    "            pass\n",
    "        \n",
    "    return outputs\n",
    "\n",
    "def velocity_pred(inputs, nseqlen):\n",
    "    outputs = np.zeros((inputs.shape[0], inputs.shape[1], 1))\n",
    "\n",
    "    for i in range(inputs.shape[0]):\n",
    "        try:\n",
    "            v = inputs[i][:,63]\n",
    "            v = np.sign(v)\n",
    "            k = np.where(-2 == v[1:] - v[:-1])\n",
    "            k = k[0]\n",
    "            for j in k:\n",
    "                outputs[i,j,0] = 1\n",
    "            # k = peakdet(v,0.5)[0][1][0]\n",
    "        except:\n",
    "            pass\n",
    "        \n",
    "    return outputs\n",
    "\n",
    "def plot_stats(sdist):\n",
    "    plt.hist(sdist,100,[0, 100])\n",
    "    filtered = [k for k in sdist if k >= 0]\n",
    "    \n",
    "    def off_by(threshold, filtered):\n",
    "        ob = [k for k in filtered if k <= threshold]\n",
    "        nel = float(len(filtered))\n",
    "        print(\"<= %d: %f\" % (threshold, len(ob) / float(nel)))\n",
    "        \n",
    "    \n",
    "    print(\"Error distribution:\")\n",
    "    off_by(1, filtered)\n",
    "    off_by(3, filtered)\n",
    "    off_by(5, filtered)\n",
    "    off_by(10, filtered)\n",
    "    off_by(60, filtered)\n",
    "    print(\"Mean distance: %f\" % (np.mean(filtered)))\n",
    " \n",
    "\n",
    "res = velocity_pred(inputs, 128)\n",
    "sdist = []\n",
    "for ntrial in range(ntrain):\n",
    "    likelihood = res[ntrial,:,:]\n",
    "    true = outputs[ntrial,:,:]\n",
    "    d = eval_prediction(likelihood, true, ids[ntrial], plot = False, shift = 4)\n",
    "    sdist.extend(d)\n",
    "plot_stats([k for k in sdist if k > -0.5 and k < 20])\n",
    "#plot_stats(sdist)\n",
    "#print(sdist)\n",
    "print(len([k for k in sdist if k > 20]) / float(len(sdist)))\n",
    "\n",
    "res = coordinate_pred(inputs, 128)\n",
    "sdist = []\n",
    "for ntrial in range(ntrain):\n",
    "    likelihood = res[ntrial,:,:]\n",
    "    true = outputs[ntrial,:,:]\n",
    "    d = eval_prediction(likelihood, true, ids[ntrial], plot = False, shift = 4)\n",
    "    sdist.extend(d)\n",
    "plot_stats([k for k in sdist if k > -0.5 and k < 20])\n",
    "print(len([k for k in sdist if k > 20]) / float(len(sdist)))\n",
    "#plot_stats(sdist)\n",
    "#print(sdist)\n"
   ]
  },
  {
   "cell_type": "code",
   "execution_count": null,
   "metadata": {
    "collapsed": true
   },
   "outputs": [],
   "source": []
  }
 ],
 "metadata": {
  "kernelspec": {
   "display_name": "Python 2",
   "language": "python",
   "name": "python2"
  },
  "language_info": {
   "codemirror_mode": {
    "name": "ipython",
    "version": 2
   },
   "file_extension": ".py",
   "mimetype": "text/x-python",
   "name": "python",
   "nbconvert_exporter": "python",
   "pygments_lexer": "ipython2",
   "version": "2.7.13"
  }
 },
 "nbformat": 4,
 "nbformat_minor": 2
}
